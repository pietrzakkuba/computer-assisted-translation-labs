{
  "nbformat": 4,
  "nbformat_minor": 5,
  "metadata": {
    "kernelspec": {
      "name": "python391jvsc74a57bd0ac59ebe37160ed0dfa835113d9b8498d9f09ceb179beaac4002f036b9467c963",
      "display_name": "Python 3.9.1 64-bit"
    },
    "language_info": {
      "codemirror_mode": {
        "name": "ipython",
        "version": 3
      },
      "file_extension": ".py",
      "mimetype": "text/x-python",
      "name": "python",
      "nbconvert_exporter": "python",
      "pygments_lexer": "ipython3",
      "version": "3.9.1"
    },
    "metadata": {
      "interpreter": {
        "hash": "ac59ebe37160ed0dfa835113d9b8498d9f09ceb179beaac4002f036b9467c963"
      }
    },
    "colab": {
      "name": "lab_09_jakub_pietrzak.ipynb",
      "provenance": [],
      "include_colab_link": true
    }
  },
  "cells": [
    {
      "cell_type": "markdown",
      "metadata": {
        "id": "view-in-github",
        "colab_type": "text"
      },
      "source": [
        "<a href=\"https://colab.research.google.com/github/pietrzakkuba/computer-assisted-translation-labs/blob/main/lab_09.ipynb\" target=\"_parent\"><img src=\"https://colab.research.google.com/assets/colab-badge.svg\" alt=\"Open In Colab\"/></a>"
      ]
    },
    {
      "cell_type": "markdown",
      "metadata": {
        "id": "expanded-entrance"
      },
      "source": [
        "# Komputerowe wspomaganie tłumaczenia"
      ],
      "id": "expanded-entrance"
    },
    {
      "cell_type": "markdown",
      "metadata": {
        "id": "atlantic-greenhouse"
      },
      "source": [
        "# Zajęcia 9 - key logging"
      ],
      "id": "atlantic-greenhouse"
    },
    {
      "cell_type": "markdown",
      "metadata": {
        "id": "featured-afghanistan"
      },
      "source": [
        "Badania nad komputerowym wspomaganiem tłumaczenia często prowadzone są przy użyciu metodologii testowania interfejsów użytkownika - UI/UX testing. Program typu CAT traktuje się wówczas jak każdy inny program komputerowy i przeprowadza testy wydajności i użyteczności."
      ],
      "id": "featured-afghanistan"
    },
    {
      "cell_type": "markdown",
      "metadata": {
        "id": "severe-protein"
      },
      "source": [
        "Testy takie prowadzone są zawsze na użytkownikach końcowych, w tym przypadku - na tłumaczach. Podstawowym celem testów jest próba zaobserwowania faktycznego sposobu pracy tłumacza - które funkcje programu są przez niego wykorzystywane najczęściej, jakich innych narzędzi poza CAT-em używa on do swojej pracy, które funkcje programu działają zgodnie, a które niezgodnie z intuicją użytkownika oraz wiele innych czynników. Aby wszystkie te analizy były możliwe, konieczne jest zgromadzenie jak największej ilości danych dotyczących przebiegu testu."
      ],
      "id": "severe-protein"
    },
    {
      "cell_type": "markdown",
      "metadata": {
        "id": "constant-underground"
      },
      "source": [
        "Testy są przede wszystkim nagrywane. Nagrywany jest zarówno ekran komputera (screen capture), jak i sam użytkownik pracujący przy komputerze. To jednak nie wszystko - często stosuje się specjalne techniki eye-trackingu, które są w stanie określić, w który punk ekranu użytkownik aktualnie patrzy. Dane pozyskane w ten sposób używane są do analizy czasu znalezienia przez użytkownika potrzebnej mu funkcji oraz zidentyfikowania miejsc, gdzie tej funkcji poszukiwał. Można również wyznaczyć obszary ekranu, które często skupiają uwagę użytkownika. "
      ],
      "id": "constant-underground"
    },
    {
      "cell_type": "markdown",
      "metadata": {
        "id": "analyzed-lodging"
      },
      "source": [
        "Dodatkowo stosuje się jeszcze jedną technikę, która jest szczególnie przydatna z punktu widzenia analizy procesu tłumaczenia. Wykonuje się pełny key logging, tj. zapisuje się każde uderzenie użytkownika w dowolny klawisz na klawiaturze wraz z precyzyjnym czasem tego uderzenia. Dane pozyskane w ten sposób pozwalają na przeprowadzenie szeregu interesujących analiz."
      ],
      "id": "analyzed-lodging"
    },
    {
      "cell_type": "markdown",
      "metadata": {
        "id": "incredible-stress"
      },
      "source": [
        "Zapoznajmy się najpierw z programem typu key logger:"
      ],
      "id": "incredible-stress"
    },
    {
      "cell_type": "markdown",
      "metadata": {
        "id": "arctic-horror"
      },
      "source": [
        "`sudo pip3 install keyboard`"
      ],
      "id": "arctic-horror"
    },
    {
      "cell_type": "code",
      "metadata": {
        "scrolled": true,
        "id": "broken-workstation",
        "outputId": "d24e2348-5fb8-41d5-82da-485f79773295"
      },
      "source": [
        "import keyboard\n",
        "\n",
        "\n",
        "def report_key(event):\n",
        "    print(event)\n",
        "\n",
        "keyboard.on_release(callback=report_key)\n",
        "keyboard.wait('esc')\n",
        "# jakiś tekst"
      ],
      "id": "broken-workstation",
      "execution_count": null,
      "outputs": [
        {
          "output_type": "stream",
          "text": [
            "KeyboardEvent(j up)\n",
            "KeyboardEvent(a up)\n",
            "KeyboardEvent(k up)\n",
            "KeyboardEvent(i up)\n",
            "KeyboardEvent(alt gr up)\n",
            "KeyboardEvent(s up)\n",
            "KeyboardEvent(space up)\n",
            "KeyboardEvent(e up)\n",
            "KeyboardEvent(t up)\n",
            "KeyboardEvent(k up)\n",
            "KeyboardEvent(s up)\n",
            "KeyboardEvent(t up)\n",
            "KeyboardEvent(esc up)\n"
          ],
          "name": "stdout"
        }
      ]
    },
    {
      "cell_type": "markdown",
      "metadata": {
        "id": "polish-census"
      },
      "source": [
        "UWAGA! Aby uruchomić powyższy kod na Linuxie konieczne są uprawnienia administratora (pytanie poza konkursem - dlaczego?)"
      ],
      "id": "polish-census"
    },
    {
      "cell_type": "markdown",
      "metadata": {
        "id": "incoming-hands"
      },
      "source": [
        "### Ćwiczenie 1: Wykorzystując powyższy kod napisz keylogger, który zapisuje wszystkie uderzenia w klawisze do pliku. Format pliku jest dowolny, każdy wpis musi zawierać precyzyjną godzinę uderzenia oraz uderzony klawisz. Uruchom program i przepisz paragraf dowolnie wybranego tekstu."
      ],
      "id": "incoming-hands"
    },
    {
      "cell_type": "code",
      "metadata": {
        "id": "least-final",
        "outputId": "113017b9-8a03-4181-dec6-f606ad11f23a"
      },
      "source": [
        "from datetime import datetime\n",
        "import keyboard\n",
        "\n",
        "def on_key_released(event):\n",
        "    file = open('plik.tsv', 'a')\n",
        "    file.write(str(event.name) + '\\t' + str(event.time) + '\\n')\n",
        "    file.close()\n",
        "\n",
        "keyboard.on_release(callback=on_key_released)\n",
        "keyboard.wait('esc') # polski samolot myślwiski konstruckji inzyniera zygmunta pulawksiego z ikresu przed ii wojnyy swiatowej produkowany w polsce w zakładach pzl w latach 1934-1936, a tkaże na licencnji w zakładach IAR w Rumunii."
      ],
      "id": "least-final",
      "execution_count": null,
      "outputs": [
        {
          "output_type": "stream",
          "text": [
            "Traceback (most recent call last):\n",
            "  File \"C:\\Users\\Kuba\\AppData\\Roaming\\Python\\Python39\\site-packages\\keyboard\\_generic.py\", line 22, in invoke_handlers\n",
            "    if handler(event):\n",
            "  File \"C:\\Users\\Kuba\\AppData\\Roaming\\Python\\Python39\\site-packages\\keyboard\\__init__.py\", line 480, in <lambda>\n",
            "    return hook(lambda e: e.event_type == KEY_DOWN or callback(e), suppress=suppress)\n",
            "  File \"<ipython-input-19-2a5f4a996f30>\", line 6, in on_key_released\n",
            "    file.write(str(event.name) + '\\t' + str(event.time) + '\\n')\n",
            "  File \"C:\\Program Files\\Python39\\lib\\encodings\\cp1252.py\", line 19, in encode\n",
            "    return codecs.charmap_encode(input,self.errors,encoding_table)[0]\n",
            "UnicodeEncodeError: 'charmap' codec can't encode character '\\u015b' in position 0: character maps to <undefined>\n"
          ],
          "name": "stderr"
        }
      ]
    },
    {
      "cell_type": "markdown",
      "metadata": {
        "id": "valuable-bearing"
      },
      "source": [
        "Celem powyższego ćwiczenia jest pozyskanie danych testowych. Dalsze analizy będziemy prowadzili już bez key loggera, starając się korzystać jedynie z danych zapisanych w pliku. Oczywiście, jeśli zajdzie taka konieczność, można w każdej chwili wygenerować sobie nowy plik."
      ],
      "id": "valuable-bearing"
    },
    {
      "cell_type": "markdown",
      "metadata": {
        "id": "boxed-maple"
      },
      "source": [
        "### Ćwiczenie 2: Napisz program, który wyliczy średnią prędkość pisania. Wykryj, kiedy użytkownik zaczął pisać. Nie bierz pod uwagę przerw dłuższych niż 5 sekund. Podaj prędkość pisania w znakach na minutę oraz słowach na minutę."
      ],
      "id": "boxed-maple"
    },
    {
      "cell_type": "code",
      "metadata": {
        "id": "possible-holder",
        "outputId": "12198935-5aa6-4681-bfdd-91defab4333d"
      },
      "source": [
        "from string import ascii_lowercase\n",
        "\n",
        "def calculate_typing_speed():\n",
        "    chars = list(ascii_lowercase)\n",
        "    file = open('plik.tsv', 'r')\n",
        "    times = []\n",
        "    wordcount = 0\n",
        "    for line in file.readlines():\n",
        "        char, time = line.split('\\t')\n",
        "        time = float(time.strip())\n",
        "        if char.lower() in chars or char == 'space':\n",
        "            times.append(time)\n",
        "        if char == 'space':\n",
        "            wordcount += 1\n",
        "    durations = []\n",
        "    for index, time in enumerate(times):\n",
        "        if index > 0:\n",
        "            duration = time - prev_time\n",
        "            if duration < 5.0:\n",
        "                durations.append(duration)\n",
        "        prev_time = time\n",
        "    \n",
        "    type_speed = len(durations) / sum(durations) \n",
        "    word_speed = wordcount / sum(durations)\n",
        "    return type_speed * 60, word_speed * 60\n",
        "\n",
        "calculate_typing_speed()"
      ],
      "id": "possible-holder",
      "execution_count": null,
      "outputs": [
        {
          "output_type": "execute_result",
          "data": {
            "text/plain": [
              "(173.1667608550016, 25.68502194500024)"
            ]
          },
          "metadata": {
            "tags": []
          },
          "execution_count": 17
        }
      ]
    },
    {
      "cell_type": "markdown",
      "metadata": {
        "id": "ceramic-birth"
      },
      "source": [
        "Wróćmy teraz do procesu tłumaczenia. Analiza uderzeń klawiszy wykonanych podczas tłumaczenia pozwala wykryć dłuższe pauzy. Pauzy te najczęściej wskazują miejsca, w których tłumacz musi się głębiej zastanowić nad tłumaczeniem danego słowa lub frazy. Przerwę tę wykorzystuje na przykład na sprawdzenie tłumaczenia lub definicji w słowniku, przeglądanie wyników z pamięci tłumaczeń lub korzystanie z innych pomocy (eye-tracking mógłby w tym przypadku rozstrzygnąć, czym w istocie zajmuje się w tym momencie tłuamcz). Jest też możliwe, że tłumacz poświęca pauzę na tzw. cognitive pause-and-unload - rodzaj zamyślenia, pozwalający oczyścić myśli. Z punktu widzenia projektowania systemu wspomagającego tłumaczenie niezwykle istotna jest informacja, nad czym tłumacz musi się dłużej zastanowić. Minimalizacja liczby i czasu trwania takich przerw jest szansą na usprawnienie procesu tłumaczenia."
      ],
      "id": "ceramic-birth"
    },
    {
      "cell_type": "markdown",
      "metadata": {
        "id": "great-cable"
      },
      "source": [
        "### Ćwiczenie 3: Napisz program do wykrywania przerw w pisaniu. Raportuj długość oraz miejsce wystąpienia przerwy podając 20-znakowy kontekst z każdej strony. Wykryj każdą przerwę dłuższą niż 3 sekundy, posortuj wyniki malejąco po długości przerwy."
      ],
      "id": "great-cable"
    },
    {
      "cell_type": "code",
      "metadata": {
        "tags": [],
        "id": "close-riverside",
        "outputId": "df1c9dc5-8efd-4f4c-81e6-af0ab2b66e99"
      },
      "source": [
        "def find_pauses():\n",
        "    char_list = list(ascii_lowercase)\n",
        "    file = open('plik.tsv', 'r')\n",
        "    times = []\n",
        "    chars = []\n",
        "    wordcount = 0\n",
        "    for line in file.readlines():\n",
        "        char, time = line.split('\\t')\n",
        "        time = float(time.strip())\n",
        "        if char.lower() in char_list or char == 'space':\n",
        "            times.append(time)\n",
        "            chars.append(char)\n",
        "    pauses = []\n",
        "    for index, (time, char) in enumerate(zip(times, chars)):\n",
        "        if index > 0:\n",
        "            duration = time - prev_time\n",
        "            if duration > 3.0:\n",
        "                pauses.append((duration, '-'.join(chars[max(index - 20, 0) : index + 21])))\n",
        "        prev_time = time\n",
        "    return sorted(pauses, key=lambda x: x[0], reverse=True)\n",
        "find_pauses()"
      ],
      "id": "close-riverside",
      "execution_count": null,
      "outputs": [
        {
          "output_type": "execute_result",
          "data": {
            "text/plain": [
              "[(8.74182677268982,\n",
              "  'c-h-space-p-z-l-w-space-l-a-space-w-space-l-a-t-a-c-h-space-space-a-space-t-k-a-z-e-space-n-a-space-l-i-c-e-n-c-n-j-i'),\n",
              " (3.5999319553375244,\n",
              "  'space-w-space-z-a-k-l-a-d-a-c-h-space-p-z-l-w-space-l-a-space-w-space-l-a-t-a-c-h-space-space-a-space-t-k-a-z-e-space-n-a'),\n",
              " (3.495737075805664,\n",
              "  'k-i-space-s-a-m-o-l-o-t-space-m-y-l-w-i-s-k-i-space-k-o-n-s-t-r-u-c-k-j-i-space-i-n-z-y-n-i-e-r-a'),\n",
              " (3.032360553741455,\n",
              "  'space-i-i-space-w-o-j-n-y-y-space-s-w-i-a-t-o-w-e-j-space-p-r-o-d-u-k-o-w-a-n-y-space-w-space-p-o-l-s-c-j')]"
            ]
          },
          "metadata": {
            "tags": []
          },
          "execution_count": 16
        }
      ]
    }
  ]
}