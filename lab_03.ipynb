{
  "nbformat": 4,
  "nbformat_minor": 5,
  "metadata": {
    "kernelspec": {
      "display_name": "Python 3",
      "language": "python",
      "name": "python3"
    },
    "language_info": {
      "codemirror_mode": {
        "name": "ipython",
        "version": 3
      },
      "file_extension": ".py",
      "mimetype": "text/x-python",
      "name": "python",
      "nbconvert_exporter": "python",
      "pygments_lexer": "ipython3",
      "version": "3.8.5"
    },
    "colab": {
      "name": "lab_03.ipynb",
      "provenance": [],
      "include_colab_link": true
    }
  },
  "cells": [
    {
      "cell_type": "markdown",
      "metadata": {
        "id": "view-in-github",
        "colab_type": "text"
      },
      "source": [
        "<a href=\"https://colab.research.google.com/github/pietrzakkuba/computer-assisted-translation-labs/blob/main/lab_03.ipynb\" target=\"_parent\"><img src=\"https://colab.research.google.com/assets/colab-badge.svg\" alt=\"Open In Colab\"/></a>"
      ]
    },
    {
      "cell_type": "markdown",
      "metadata": {
        "id": "expanded-entrance"
      },
      "source": [
        "# Komputerowe wspomaganie tłumaczenia"
      ],
      "id": "expanded-entrance"
    },
    {
      "cell_type": "markdown",
      "metadata": {
        "id": "atlantic-greenhouse"
      },
      "source": [
        "# Zajęcia 3 - terminologia"
      ],
      "id": "atlantic-greenhouse"
    },
    {
      "cell_type": "markdown",
      "metadata": {
        "id": "aggregate-listing"
      },
      "source": [
        "Na dzisiejszych zajęciach zajmiemy się bliżej słownikami używanymi do wspomagania tłumaczenia. Oczywiście na rynku dostępnych jest bardzo wiele słowników w formacie elektronicznym. Wiele z nich jest gotowych do użycia w SDL Trados, memoQ i innych narzędziach CAT. Zawierają one setki tysięcy lub miliony haseł i oferują natychmiastową pomoc tłumaczowi."
      ],
      "id": "aggregate-listing"
    },
    {
      "cell_type": "markdown",
      "metadata": {
        "id": "israeli-excuse"
      },
      "source": [
        "Problem jednak w tym, iż często nie zawierają odpowiedniej terminologii specjalistycznej - używanej przez klienta zamawiającego tłumaczenie. Terminy specjalistyczne są bardzo częste w tekstach tłumaczonych ze względu na następujące zjawiska:\n",
        "- Teksty o tematyce ogólnej są tłumaczone dość rzadko (nikt nie tłumaczy pocztówek z pozdrowieniami z wakacji...)\n",
        "- Te same słowa mogą mieć zarówno znaczenie ogólne, jak i bardzo specjalistyczne (np. \"dziedziczenie\" w kontekście prawnym lub informatycznym)\n",
        "- Klient używa nazw lub słów wymyślonych przez siebie, np. na potrzeby marketingowe."
      ],
      "id": "israeli-excuse"
    },
    {
      "cell_type": "markdown",
      "metadata": {
        "id": "reflected-enforcement"
      },
      "source": [
        "Nietrywialnymi zadaniami stają się: odnalezienie terminu specjalistycznego w tekście źródłowym oraz podanie prawidłowego tłumaczenia tego terminu na język docelowy"
      ],
      "id": "reflected-enforcement"
    },
    {
      "cell_type": "markdown",
      "metadata": {
        "id": "statutory-florist"
      },
      "source": [
        "Brzmi prosto? Spróbujmy wykonać ręcznie tę drugą operację."
      ],
      "id": "statutory-florist"
    },
    {
      "cell_type": "markdown",
      "metadata": {
        "id": "danish-anchor"
      },
      "source": [
        "### Ćwiczenie 1: Podaj tłumaczenie terminu \"prowadnice szaf metalowych\" na język angielski. Opisz, z jakich narzędzi skorzystałaś/eś."
      ],
      "id": "danish-anchor"
    },
    {
      "cell_type": "markdown",
      "metadata": {
        "id": "diverse-sunglasses"
      },
      "source": [
        "Odpowiedź:\n",
        "\n",
        "```\n",
        "metal drawer slides / slides for metal drawer\n",
        "co zrobiłem:\n",
        "wpisałem hasło w google po polsku, i szukałem na stronach sklepów budowlanych tych prowadnic,\n",
        "aż znalazłem na którejś stronie prowadnicę wraz z jej kodem produktu\n",
        "https://ekorex.pl/pl/p/PROWADNICA-MODERN-SLIDE-PW-350MM-3D/33459?gclid=CjwKCAjwxuuCBhATEiwAIIIz0b-EEAey1oQiEOi2fbxjT7hINjxAcouqxQbTatMuNwhdJXjPa5zMOBoCtYYQAvD_BwE. \n",
        "Kod (0SHX-18 3D) wkleiłem do google, znalazłem opis produktu po pl, eng i ru w pdfie\n",
        "https://www.gtv.com.pl/images/products/files/298216_Karta%20katalogowa%20WWW%20PL.pdf\n",
        "tam było to hasło drawer slides\n",
        "chciałem się upewnić, że to na pewno to, więc wpisałem drawer slides do google i faktycznie jest to to samo :)\n",
        "\n",
        "```\n",
        "\n"
      ],
      "id": "diverse-sunglasses"
    },
    {
      "cell_type": "markdown",
      "metadata": {
        "id": "limited-waterproof"
      },
      "source": [
        "W dalszych ćwiczeniach skupimy się jednak na odszukaniu terminu specjalistycznego w tekście. W tym celu będą potrzebne dwie operacje:\n",
        "1. Przygotowanie słownika specjalistycznego.\n",
        "2. Detekcja terminologii przy użyciu przygotowanego słownika specjalistycznego."
      ],
      "id": "limited-waterproof"
    },
    {
      "cell_type": "markdown",
      "metadata": {
        "id": "literary-blues"
      },
      "source": [
        "Zajmijmy się najpierw krokiem nr 2 (gdyż jest prostszy). Rozważmy następujący tekst:"
      ],
      "id": "literary-blues"
    },
    {
      "cell_type": "code",
      "metadata": {
        "id": "loving-prince"
      },
      "source": [
        "text = \" For all Java programmers:\"\n",
        "text += \" This section explains how to compile and run a Swing application from the command line.\"\n",
        "text += \" For information on compiling and running a Swing application using NetBeans IDE,\"\n",
        "text += \" see Running Tutorial Examples in NetBeans IDE. The compilation instructions work for all Swing programs\"\n",
        "text += \" — applets, as well as applications. Here are the steps you need to follow:\"\n",
        "text += \" Install the latest release of the Java SE platform, if you haven't already done so.\"\n",
        "text += \" Create a program that uses Swing components. Compile the program. Run the program.\""
      ],
      "id": "loving-prince",
      "execution_count": 7,
      "outputs": []
    },
    {
      "cell_type": "markdown",
      "metadata": {
        "id": "extreme-cycling"
      },
      "source": [
        "Załóżmy, że posiadamy następujący słownik:"
      ],
      "id": "extreme-cycling"
    },
    {
      "cell_type": "code",
      "metadata": {
        "id": "bound-auction"
      },
      "source": [
        "dictionary = ['program', 'application', 'applet', 'compile']"
      ],
      "id": "bound-auction",
      "execution_count": 15,
      "outputs": []
    },
    {
      "cell_type": "markdown",
      "metadata": {
        "id": "other-trinidad"
      },
      "source": [
        "### Ćwiczenie 2: Napisz program, który wypisze pozycje wszystkich wystąpień poszczególnych terminów specjalistycznych. Dla każdego terminu należy wypisać listę par (pozycja_startowa, pozycja końcowa)."
      ],
      "id": "other-trinidad"
    },
    {
      "cell_type": "code",
      "metadata": {
        "colab": {
          "base_uri": "https://localhost:8080/"
        },
        "id": "cognitive-cedar",
        "outputId": "aca2de6e-8db7-4bb3-91f4-ea3816024588"
      },
      "source": [
        "import re\n",
        "\n",
        "def terminology_lookup():\n",
        "    text_lower = text.lower()\n",
        "    pairs = {}\n",
        "    for pos in dictionary:\n",
        "        pairs[pos] = [(occurence.start(), occurence.end()) for occurence in list(re.finditer(pos, text_lower))]\n",
        "    return pairs\n",
        "terminology_lookup()"
      ],
      "id": "cognitive-cedar",
      "execution_count": 49,
      "outputs": [
        {
          "output_type": "execute_result",
          "data": {
            "text/plain": [
              "{'applet': [(302, 308)],\n",
              " 'application': [(80, 91), (164, 175), (322, 333)],\n",
              " 'compile': [(56, 63), (504, 511)],\n",
              " 'program': [(14, 21), (291, 298), (468, 475), (516, 523), (533, 540)]}"
            ]
          },
          "metadata": {
            "tags": []
          },
          "execution_count": 49
        }
      ]
    },
    {
      "cell_type": "markdown",
      "metadata": {
        "id": "interior-things"
      },
      "source": [
        "Zwykłe wyszukiwanie w tekście ma pewne wady. Na przykład, gdy szukaliśmy słowa \"program\", złapaliśmy przypadkiem słowo \"programmer\". Złapaliśmy także słowo \"programs\", co jest poprawne, ale niepoprawnie podaliśmy jego pozycję w tekście."
      ],
      "id": "interior-things"
    },
    {
      "cell_type": "markdown",
      "metadata": {
        "id": "aggressive-plane"
      },
      "source": [
        "Żeby poradzić sobie z tymi problemami, musimy wykorzystać techniki przetwarzania języka naturalnego. Wypróbujmy pakiet spaCy:\n",
        "\n",
        "`pip3 install spacy`\n",
        "\n",
        "oraz\n",
        "\n",
        "`python3 -m spacy download en_core_web_sm`"
      ],
      "id": "aggressive-plane"
    },
    {
      "cell_type": "code",
      "metadata": {
        "colab": {
          "base_uri": "https://localhost:8080/"
        },
        "id": "tribal-attention",
        "outputId": "19ac7361-7faf-4f5c-940e-159b3df2ead0"
      },
      "source": [
        "import spacy\n",
        "nlp = spacy.load(\"en_core_web_sm\")\n",
        "\n",
        "doc = nlp(text)\n",
        "\n",
        "for token in doc:\n",
        "    print(token.lemma_)"
      ],
      "id": "tribal-attention",
      "execution_count": 33,
      "outputs": [
        {
          "output_type": "stream",
          "text": [
            " \n",
            "for\n",
            "all\n",
            "Java\n",
            "programmer\n",
            ":\n",
            "this\n",
            "section\n",
            "explain\n",
            "how\n",
            "to\n",
            "compile\n",
            "and\n",
            "run\n",
            "a\n",
            "swing\n",
            "application\n",
            "from\n",
            "the\n",
            "command\n",
            "line\n",
            ".\n",
            "for\n",
            "information\n",
            "on\n",
            "compile\n",
            "and\n",
            "run\n",
            "a\n",
            "Swing\n",
            "application\n",
            "use\n",
            "NetBeans\n",
            "IDE\n",
            ",\n",
            "see\n",
            "Running\n",
            "Tutorial\n",
            "Examples\n",
            "in\n",
            "NetBeans\n",
            "IDE\n",
            ".\n",
            "the\n",
            "compilation\n",
            "instruction\n",
            "work\n",
            "for\n",
            "all\n",
            "swing\n",
            "program\n",
            "—\n",
            "applet\n",
            ",\n",
            "as\n",
            "well\n",
            "as\n",
            "application\n",
            ".\n",
            "here\n",
            "be\n",
            "the\n",
            "step\n",
            "-PRON-\n",
            "need\n",
            "to\n",
            "follow\n",
            ":\n",
            "install\n",
            "the\n",
            "late\n",
            "release\n",
            "of\n",
            "the\n",
            "Java\n",
            "SE\n",
            "platform\n",
            ",\n",
            "if\n",
            "-PRON-\n",
            "have\n",
            "not\n",
            "already\n",
            "do\n",
            "so\n",
            ".\n",
            "create\n",
            "a\n",
            "program\n",
            "that\n",
            "use\n",
            "swing\n",
            "component\n",
            ".\n",
            "compile\n",
            "the\n",
            "program\n",
            ".\n",
            "run\n",
            "the\n",
            "program\n",
            ".\n"
          ],
          "name": "stdout"
        }
      ]
    },
    {
      "cell_type": "markdown",
      "metadata": {
        "id": "regional-craft"
      },
      "source": [
        "Sukces! Nastąpił podział tekstu na słowa (tokenizacja) oraz sprowadzenie do formy podstawowej każdego słowa (lematyzacja)."
      ],
      "id": "regional-craft"
    },
    {
      "cell_type": "markdown",
      "metadata": {
        "id": "toxic-subsection"
      },
      "source": [
        "### Ćwiczenie 3: Zmodyfikuj program z ćwiczenia 2 tak, aby zwracał również odmienione słowa. Na przykład, dla słowa \"program\" powinien znaleźć również \"programs\", ustawiając pozycje w tekście odpowiednio dla słowa \"programs\". Wykorzystaj właściwość idx tokenu."
      ],
      "id": "toxic-subsection"
    },
    {
      "cell_type": "code",
      "metadata": {
        "colab": {
          "base_uri": "https://localhost:8080/"
        },
        "id": "surgical-demonstration",
        "outputId": "812f630b-fbb7-4134-d9cb-b1bc28cd617e"
      },
      "source": [
        "def terminology_lookup():\n",
        "    pairs = {}\n",
        "    for pos in dictionary:\n",
        "        pairs[pos] = [(token.idx, token.idx + len(token)) for token in doc if token.lemma_ == pos]\n",
        "    return pairs\n",
        "terminology_lookup()"
      ],
      "id": "surgical-demonstration",
      "execution_count": 54,
      "outputs": [
        {
          "output_type": "execute_result",
          "data": {
            "text/plain": [
              "{'applet': [(302, 309)],\n",
              " 'application': [(80, 91), (164, 175), (322, 334)],\n",
              " 'compile': [(56, 63), (134, 143), (504, 511)],\n",
              " 'program': [(291, 299), (468, 475), (516, 523), (533, 540)]}"
            ]
          },
          "metadata": {
            "tags": []
          },
          "execution_count": 54
        }
      ]
    },
    {
      "cell_type": "markdown",
      "metadata": {
        "id": "straight-letter"
      },
      "source": [
        "Teraz czas zająć się problemem przygotowania słownika specjalistycznego. W tym celu napiszemy nasz własny ekstraktor terminologii. Wejściem do ekstraktora będzie tekst zawierający specjalistyczną terminologię. Wyjściem - lista terminów."
      ],
      "id": "straight-letter"
    },
    {
      "cell_type": "markdown",
      "metadata": {
        "id": "nearby-frontier"
      },
      "source": [
        "Przyjmijmy następujące podejście - terminami specjalistycznymi będą najcześćiej występujące rzeczowniki w tekście. Wykonajmy krok pierwszy:"
      ],
      "id": "nearby-frontier"
    },
    {
      "cell_type": "markdown",
      "metadata": {
        "id": "harmful-lightning"
      },
      "source": [
        "### Ćwiczenie 4: Wypisz wszystkie rzeczowniki z tekstu. Wykorzystaj możliwości spaCy."
      ],
      "id": "harmful-lightning"
    },
    {
      "cell_type": "code",
      "metadata": {
        "colab": {
          "base_uri": "https://localhost:8080/"
        },
        "id": "superb-butterfly",
        "outputId": "bf1328b0-7643-47e8-bc73-c51e5db1003b"
      },
      "source": [
        "def get_nouns(text):\n",
        "    return [token for token in nlp(text) if token.pos_ == 'NOUN']\n",
        "get_nouns(text)"
      ],
      "id": "superb-butterfly",
      "execution_count": 62,
      "outputs": [
        {
          "output_type": "execute_result",
          "data": {
            "text/plain": [
              "[programmers,\n",
              " section,\n",
              " Swing,\n",
              " application,\n",
              " command,\n",
              " line,\n",
              " information,\n",
              " application,\n",
              " compilation,\n",
              " instructions,\n",
              " Swing,\n",
              " programs,\n",
              " applets,\n",
              " applications,\n",
              " steps,\n",
              " release,\n",
              " platform,\n",
              " program,\n",
              " Swing,\n",
              " components,\n",
              " program,\n",
              " program]"
            ]
          },
          "metadata": {
            "tags": []
          },
          "execution_count": 62
        }
      ]
    },
    {
      "cell_type": "markdown",
      "metadata": {
        "id": "musical-creator"
      },
      "source": [
        "Teraz czas na podliczenie wystąpień poszczególnych rzeczowników. Uwaga - różne formy tego samego słowa zliczamy razem jako wystąpienia tego słowa (np. \"program\" i \"programs\"). Najwygodniejszą metodą podliczania jest zastosowanie tzw. tally (po polsku \"zestawienie\"). Jest to słownik, którego kluczem jest słowo w formie podstawowej, a wartością liczba wystąpień tego słowa, wliczając słowa odmienione. Przykład gotowego tally:"
      ],
      "id": "musical-creator"
    },
    {
      "cell_type": "code",
      "metadata": {
        "id": "acting-tolerance"
      },
      "source": [
        "tally = {\"program\" : 4, \"component\" : 1}"
      ],
      "id": "acting-tolerance",
      "execution_count": 63,
      "outputs": []
    },
    {
      "cell_type": "markdown",
      "metadata": {
        "id": "vanilla-estimate"
      },
      "source": [
        "### Ćwiczenie 5: Napisz program do ekstrakcji terminologii z tekstu według powyższych wytycznych."
      ],
      "id": "vanilla-estimate"
    },
    {
      "cell_type": "code",
      "metadata": {
        "colab": {
          "base_uri": "https://localhost:8080/"
        },
        "id": "eight-redhead",
        "outputId": "e35dbe69-500e-412f-bd0d-07e4103c057c"
      },
      "source": [
        "def extract_terms(text):\n",
        "    tally = {}\n",
        "    for token in nlp(text):\n",
        "        if token.pos_ == 'NOUN':\n",
        "            if (token.lemma_ not in tally):\n",
        "                tally[token.lemma_] = 1\n",
        "            else:\n",
        "                tally[token.lemma_] += 1\n",
        "    return tally        \n",
        "extract_terms(text)"
      ],
      "id": "eight-redhead",
      "execution_count": 69,
      "outputs": [
        {
          "output_type": "execute_result",
          "data": {
            "text/plain": [
              "{'applet': 1,\n",
              " 'application': 3,\n",
              " 'command': 1,\n",
              " 'compilation': 1,\n",
              " 'component': 1,\n",
              " 'information': 1,\n",
              " 'instruction': 1,\n",
              " 'line': 1,\n",
              " 'platform': 1,\n",
              " 'program': 4,\n",
              " 'programmer': 1,\n",
              " 'release': 1,\n",
              " 'section': 1,\n",
              " 'step': 1,\n",
              " 'swing': 3}"
            ]
          },
          "metadata": {
            "tags": []
          },
          "execution_count": 69
        }
      ]
    },
    {
      "cell_type": "markdown",
      "metadata": {
        "id": "loaded-smell"
      },
      "source": [
        "### Ćwiczenie 6: Rozszerz powyższy program o ekstrację czasowników i przymiotników."
      ],
      "id": "loaded-smell"
    },
    {
      "cell_type": "code",
      "metadata": {
        "colab": {
          "base_uri": "https://localhost:8080/"
        },
        "id": "monetary-mambo",
        "outputId": "1041f936-8af1-4963-d0fa-db6adac34042"
      },
      "source": [
        "def extract_terms(text):\n",
        "    tally = {}\n",
        "    for token in nlp(text):\n",
        "        if token.pos_ == 'NOUN' or token.pos_ == 'VERB' or token.pos_ == 'ADJ':\n",
        "            if (token.lemma_ not in tally):\n",
        "                tally[token.lemma_] = 1\n",
        "            else:\n",
        "                tally[token.lemma_] += 1\n",
        "    return tally  \n",
        "extract_terms(text)"
      ],
      "id": "monetary-mambo",
      "execution_count": 71,
      "outputs": [
        {
          "output_type": "execute_result",
          "data": {
            "text/plain": [
              "{'applet': 1,\n",
              " 'application': 3,\n",
              " 'command': 1,\n",
              " 'compilation': 1,\n",
              " 'compile': 2,\n",
              " 'component': 1,\n",
              " 'create': 1,\n",
              " 'do': 1,\n",
              " 'explain': 1,\n",
              " 'follow': 1,\n",
              " 'information': 1,\n",
              " 'install': 1,\n",
              " 'instruction': 1,\n",
              " 'late': 1,\n",
              " 'line': 1,\n",
              " 'need': 1,\n",
              " 'platform': 1,\n",
              " 'program': 4,\n",
              " 'programmer': 1,\n",
              " 'release': 1,\n",
              " 'run': 3,\n",
              " 'section': 1,\n",
              " 'see': 1,\n",
              " 'step': 1,\n",
              " 'swing': 3,\n",
              " 'use': 2,\n",
              " 'work': 1}"
            ]
          },
          "metadata": {
            "tags": []
          },
          "execution_count": 71
        }
      ]
    }
  ]
}