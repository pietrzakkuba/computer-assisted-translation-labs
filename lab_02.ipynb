{
  "nbformat": 4,
  "nbformat_minor": 5,
  "metadata": {
    "kernelspec": {
      "display_name": "Python 3",
      "language": "python",
      "name": "python3"
    },
    "language_info": {
      "codemirror_mode": {
        "name": "ipython",
        "version": 3
      },
      "file_extension": ".py",
      "mimetype": "text/x-python",
      "name": "python",
      "nbconvert_exporter": "python",
      "pygments_lexer": "ipython3",
      "version": "3.8.5"
    },
    "colab": {
      "name": "lab_02 Jakub Pietrzak.ipynb",
      "provenance": [],
      "collapsed_sections": [],
      "include_colab_link": true
    }
  },
  "cells": [
    {
      "cell_type": "markdown",
      "metadata": {
        "id": "view-in-github",
        "colab_type": "text"
      },
      "source": [
        "<a href=\"https://colab.research.google.com/github/pietrzakkuba/computer-assisted-translation-labs/blob/main/lab_02.ipynb\" target=\"_parent\"><img src=\"https://colab.research.google.com/assets/colab-badge.svg\" alt=\"Open In Colab\"/></a>"
      ]
    },
    {
      "cell_type": "markdown",
      "metadata": {
        "id": "expanded-entrance"
      },
      "source": [
        "# Komputerowe wspomaganie tłumaczenia"
      ],
      "id": "expanded-entrance"
    },
    {
      "cell_type": "markdown",
      "metadata": {
        "id": "atlantic-greenhouse"
      },
      "source": [
        "# Zajęcia 2 - zaawansowane użycie pamięci tłumaczeń"
      ],
      "id": "atlantic-greenhouse"
    },
    {
      "cell_type": "markdown",
      "metadata": {
        "id": "aggregate-listing"
      },
      "source": [
        "Wiemy już, do czego służy pamięć tłumaczeń. Spróbujmy przeprowadzić mały research, którego celem będzie odkrycie, w jaki sposób do pamięci tłumaczeń podchodzą najwięksi producenci oprogramowania typu CAT.\n"
      ],
      "id": "aggregate-listing"
    },
    {
      "cell_type": "markdown",
      "metadata": {
        "id": "golden-turkish"
      },
      "source": [
        "### Ćwiczenie 1: Wykonaj analizę funkcjonalności pamięci tłumaczeń w programach SDL Trados Studio 2021 oraz Kilgray memoQ. Dla obu programów wypisz funkcje, które są związane z TM oraz zaznacz, które funkcje są wspólne dla obu programów oraz których funkcji Tradosa brakuje w memoQ oraz odwrotnie."
      ],
      "id": "golden-turkish"
    },
    {
      "cell_type": "markdown",
      "metadata": {
        "id": "retired-burke"
      },
      "source": [
        "Odpowiedź:\n",
        "\n",
        "```\n",
        "memoQ:\n",
        "- zachowuje informacje kontekstowe\n",
        "- wspiera ponad 100 języków\n",
        "- importowanie i eskportowanie bazy tłumaczeń\n",
        "- concordance search\n",
        "trados studio:\n",
        "- wsparcie tłumaczenia siecią neuronową dostarczającą tłumaczenia w ponad 130 językach\n",
        "- automatyczne sugestie zdań\n",
        "- concordance search\n",
        "- automatyczne poprawianie fuzzy matchów\n",
        "```\n",
        "\n"
      ],
      "id": "retired-burke"
    },
    {
      "cell_type": "markdown",
      "metadata": {
        "id": "existing-approval"
      },
      "source": [
        "Jedną z funkcji dostępnych we wszystkich większych programach do wspomagania tłumaczenia jest znajdowanie bardzo pewnych dopasowań w pamięci tłumaczeń. Są one zwane **ICE** (In-Context Exact match) lub 101% match. Są to takie dopasowania z pamięci tłumaczeń, dla których nie tylko zdanie źródłowe z TM jest identyczne z tłumaczonym, ale także poprzednie zdanie źródłowe z TM zgadza się z poprzednim zdaniem tłumaczonym oraz następne z TM z następnym tłumaczonym."
      ],
      "id": "existing-approval"
    },
    {
      "cell_type": "markdown",
      "metadata": {
        "id": "decimal-electricity"
      },
      "source": [
        " Rozważmy przykładową pamięć tłumaczeń z poprzednich zajęć (można do niej dorzucić kilka przykładów):"
      ],
      "id": "decimal-electricity"
    },
    {
      "cell_type": "code",
      "metadata": {
        "id": "confident-prison"
      },
      "source": [
        "translation_memory = [\n",
        "                      ('Wciśnij przycisk Enter', 'Press the ENTER button'), \n",
        "                      ('Sprawdź ustawienia sieciowe', 'Check the network settings'),\n",
        "                      ('Drukarka jest wyłączona', 'The printer is switched off'),\n",
        "                      ('Wymagane ponowne uruchomienie komputera', 'System restart required')\n",
        "                     ]"
      ],
      "id": "confident-prison",
      "execution_count": null,
      "outputs": []
    },
    {
      "cell_type": "markdown",
      "metadata": {
        "id": "informal-breakdown"
      },
      "source": [
        "### Ćwiczenie 2: Zaimplementuj funkcję ice_lookup, przyjmującą trzy parametry: aktualnie tłumaczone zdanie, poprzednio tłumaczone zdanie, następne zdanie do tłumaczenia. Funkcja powinna zwracać dopasowania typu ICE. Nie pozwól, aby doszło do błędów podczas sprawdzania pierwszego i ostatniego przykładu w pamięci (ze względu na brak odpowiednio poprzedzającego oraz następującego przykładu)."
      ],
      "id": "informal-breakdown"
    },
    {
      "cell_type": "code",
      "metadata": {
        "id": "continental-submission",
        "colab": {
          "base_uri": "https://localhost:8080/"
        },
        "outputId": "ef59e170-ab23-4648-8a7e-99b5dfbbd54a"
      },
      "source": [
        "def ice_lookup(sentence, prev_sentence=None, next_sentence=None):\n",
        "    # sprawdzenie czy poprzednie i następne zdanie są podane (zakładam, że muszą)\n",
        "    prev_exists = prev_sentence != '' and prev_sentence is not None\n",
        "    next_exists = next_sentence != '' and next_sentence is not None\n",
        "    translations = []\n",
        "    # szukanie dopasowań\n",
        "    for i in range(len(translation_memory)):\n",
        "        # 1. sprawdzanie czy poprzednie się zgadza\n",
        "        if not (prev_exists and i > 0 and translation_memory[i-1][0] == prev_sentence):\n",
        "            continue\n",
        "        # 2. sprawdzenie czy obecne się zgadza\n",
        "        if not (translation_memory[i][0] == sentence):\n",
        "            continue\n",
        "        # 3. sprawdzenie czy następne sie zgadza\n",
        "        if not (next_exists and i < len(translation_memory) - 1 and translation_memory[i+1][0] == next_sentence):\n",
        "            continue\n",
        "        translations.append(translation_memory[i][1])\n",
        "    return translations\n",
        "print(ice_lookup('Wciśnij przycisk Enter', None, 'Sprawdź ustawienia sieciowe'))\n",
        "print(ice_lookup('Sprawdź ustawienia sieciowe', 'Wciśnij przycisk Enter', 'Drukarka jest wyłączona'))\n",
        "print(ice_lookup('Drukarka jest wyłączona', 'Sprawdź ustawienia sieciowe', 'Wymagane ponowne uruchomienie komputera'))\n",
        "print(ice_lookup('Wymagane ponowne uruchomienie komputera', 'Drukarka jest wyłączona', None))"
      ],
      "id": "continental-submission",
      "execution_count": null,
      "outputs": [
        {
          "output_type": "stream",
          "text": [
            "[]\n",
            "['Check the network settings']\n",
            "['The printer is switched off']\n",
            "[]\n"
          ],
          "name": "stdout"
        }
      ]
    },
    {
      "cell_type": "markdown",
      "metadata": {
        "id": "figured-server"
      },
      "source": [
        "Inną powszechnie stosowaną techniką przeszukiwania pamięci tłumaczeń jest tzw. **fuzzy matching**. Technika ta polega na wyszukiwaniu zdań z pamięci, które są tylko podobne do zdania tłumaczonego. Na poprzednich zajęciach wykonywaliśmy funkcję tm_lookup, która pozwalała na różnicę jednego słowa."
      ],
      "id": "figured-server"
    },
    {
      "cell_type": "markdown",
      "metadata": {
        "id": "beautiful-fancy"
      },
      "source": [
        "Zazwyczaj jednak funkcje fuzzy match posiadają znacznie szersze możliwości. Ich działanie opiera się na zdefiniowaniu funkcji $d$ dystansu pomiędzy zdaniami $x$ i $y$. Matematycznie, funkcja dystansu posiada następujące właściwości:\n",
        "1. $\\forall_{x,y} d(x,y)\\geqslant 0$\n",
        "2. $\\forall_{x,y} d(x,y)=0 \\Leftrightarrow x=y$\n",
        "3. $\\forall_{x,y} d(x,y)=d(y,x)$\n",
        "4. $\\forall_{x,y,z} d(x,y) + d(y,z)\\geqslant d(x,z)$"
      ],
      "id": "beautiful-fancy"
    },
    {
      "cell_type": "markdown",
      "metadata": {
        "id": "square-usage"
      },
      "source": [
        "Rozważmy następującą funkcję:"
      ],
      "id": "square-usage"
    },
    {
      "cell_type": "code",
      "metadata": {
        "id": "fourth-pillow"
      },
      "source": [
        "def sentence_distance(x,y):\n",
        "    return abs(len(y) - len(x))"
      ],
      "id": "fourth-pillow",
      "execution_count": null,
      "outputs": []
    },
    {
      "cell_type": "markdown",
      "metadata": {
        "id": "mediterranean-cosmetic"
      },
      "source": [
        "### Ćwiczenie 3: Czy to jest poprawna funkcja dystansu? Które warunki spełnia?"
      ],
      "id": "mediterranean-cosmetic"
    },
    {
      "cell_type": "markdown",
      "metadata": {
        "id": "graduate-theorem"
      },
      "source": [
        "Odpowiedź: \n",
        "\n",
        "```\n",
        "1 warunek: spełnia\n",
        "2 warunek: nie spełnia - 2 różne słowa o tej samej długości\n",
        "3 warunek: spełnia\n",
        "4 warunek: spełnia, \n",
        "małe wyjaśnienie: żeby nie spełniała - d(x, z) > d(x, y) + d(y, z). Jest to sytuacja niemożliwa. \n",
        "W przypadku len(x/z) <= len(y) <= len(z/x) d(x, z) = d(x, y) + d(y, z).\n",
        "W każdym innym przypadku \n",
        "(tzn. len(y) jest max lub min spośród długości x, y, z):\n",
        "d(x, z) < d(x, y) + d(y, z)\n",
        "```\n",
        "\n"
      ],
      "id": "graduate-theorem"
    },
    {
      "cell_type": "markdown",
      "metadata": {
        "id": "native-amber"
      },
      "source": [
        "A teraz spójrzmy na taką funkcję:"
      ],
      "id": "native-amber"
    },
    {
      "cell_type": "code",
      "metadata": {
        "id": "continued-christopher"
      },
      "source": [
        "def sentence_distance(x,y):\n",
        "    if (x == y):\n",
        "        return 0\n",
        "    else:\n",
        "        return 3"
      ],
      "id": "continued-christopher",
      "execution_count": null,
      "outputs": []
    },
    {
      "cell_type": "markdown",
      "metadata": {
        "id": "every-surveillance"
      },
      "source": [
        "### Ćwiczenie 4: Czy to jest poprawna funkcja dystansu? Które warunki spełnia?"
      ],
      "id": "every-surveillance"
    },
    {
      "cell_type": "markdown",
      "metadata": {
        "id": "metallic-leave"
      },
      "source": [
        "Odpowiedź:\n",
        "```\n",
        "1 warunek: spełnia\n",
        "2 warunek: spełnia\n",
        "3 warunek: spełnia\n",
        "4 warunek: spełnia\n",
        "```\n",
        "\n"
      ],
      "id": "metallic-leave"
    },
    {
      "cell_type": "markdown",
      "metadata": {
        "id": "executed-baptist"
      },
      "source": [
        "Wprowadźmy jednak inną funkcję dystansu - dystans Levenshteina. Dystans Levenshteina pomiędzy dwoma łańcuchami znaków definiuje się jako minimalną liczbę operacji edycyjnych, które są potrzebne do przekształcenia jednego łańcucha znaków w drugi. Wyróżniamy trzy operacje edycyjne:\n",
        "* dodanie znaku\n",
        "* usunięcie znaku\n",
        "* zamiana znaku na inny"
      ],
      "id": "executed-baptist"
    },
    {
      "cell_type": "markdown",
      "metadata": {
        "id": "square-brown"
      },
      "source": [
        "### Ćwiczenie 5: Czy dystans Levenshteina jest poprawną funkcją dystansu? Uzasadnij krótko swoją odpowiedź sprawdzając każdy z warunków."
      ],
      "id": "square-brown"
    },
    {
      "cell_type": "markdown",
      "metadata": {
        "id": "bibliographic-stopping"
      },
      "source": [
        "Odpowiedź:"
      ],
      "id": "bibliographic-stopping"
    },
    {
      "cell_type": "markdown",
      "metadata": {
        "id": "attended-channels"
      },
      "source": [
        "W Pythonie dostępna jest biblioteka zawierająca implementację dystansu Levenshteina. Zainstaluj ją w swoim systemie przy użyciu polecenia:\n",
        "\n",
        "`pip3 install python-Levenshtein`\n",
        "\n",
        "I wypróbuj:"
      ],
      "id": "attended-channels"
    },
    {
      "cell_type": "code",
      "metadata": {
        "colab": {
          "base_uri": "https://localhost:8080/"
        },
        "id": "secondary-wrist",
        "outputId": "994c49b1-d675-4892-9015-1c74ef0bc4bf"
      },
      "source": [
        "# !pip install python-Levenshtein\n",
        "from Levenshtein import distance as levenshtein_distance\n",
        "\n",
        "levenshtein_distance(\"kotek\", \"kotki\")\n"
      ],
      "id": "secondary-wrist",
      "execution_count": null,
      "outputs": [
        {
          "output_type": "execute_result",
          "data": {
            "text/plain": [
              "2"
            ]
          },
          "metadata": {
            "tags": []
          },
          "execution_count": 29
        }
      ]
    },
    {
      "cell_type": "markdown",
      "metadata": {
        "id": "concrete-satellite"
      },
      "source": [
        "Funkcja ta daje nam możliwość zdefiniowania podobieństwa pomiędzy zdaniami:"
      ],
      "id": "concrete-satellite"
    },
    {
      "cell_type": "code",
      "metadata": {
        "id": "associate-tuner"
      },
      "source": [
        "def levenshtein_similarity(x,y):\n",
        "    return 1 - levenshtein_distance(x,y) / max(len(x), len(y))"
      ],
      "id": "associate-tuner",
      "execution_count": null,
      "outputs": []
    },
    {
      "cell_type": "markdown",
      "metadata": {
        "id": "built-michael"
      },
      "source": [
        "Przetestujmy ją!"
      ],
      "id": "built-michael"
    },
    {
      "cell_type": "code",
      "metadata": {
        "colab": {
          "base_uri": "https://localhost:8080/"
        },
        "id": "focal-pathology",
        "outputId": "107cefcf-53a0-4056-cc9c-16b1f95e3f7b"
      },
      "source": [
        "levenshtein_similarity('Program jest uruchomiony', 'Program jest uruchamiany')"
      ],
      "id": "focal-pathology",
      "execution_count": null,
      "outputs": [
        {
          "output_type": "execute_result",
          "data": {
            "text/plain": [
              "0.9166666666666666"
            ]
          },
          "metadata": {
            "tags": []
          },
          "execution_count": 31
        }
      ]
    },
    {
      "cell_type": "code",
      "metadata": {
        "colab": {
          "base_uri": "https://localhost:8080/"
        },
        "id": "roman-ceiling",
        "outputId": "47944627-96d6-4299-ef8e-5c61594845ff"
      },
      "source": [
        "levenshtein_similarity('Spróbuj wyłączyć i włączyć komputer', 'Spróbuj włączyć i wyłączyć komputer')"
      ],
      "id": "roman-ceiling",
      "execution_count": null,
      "outputs": [
        {
          "output_type": "execute_result",
          "data": {
            "text/plain": [
              "0.9428571428571428"
            ]
          },
          "metadata": {
            "tags": []
          },
          "execution_count": 32
        }
      ]
    },
    {
      "cell_type": "code",
      "metadata": {
        "colab": {
          "base_uri": "https://localhost:8080/"
        },
        "id": "invisible-cambodia",
        "outputId": "ccc867a9-c4fa-4dbd-c722-5bd0c4e67c42"
      },
      "source": [
        "levenshtein_similarity('Spróbuj wyłączyć i włączyć komputer', 'Nie próbuj wyłączać i włączać drukarki')"
      ],
      "id": "invisible-cambodia",
      "execution_count": null,
      "outputs": [
        {
          "output_type": "execute_result",
          "data": {
            "text/plain": [
              "0.631578947368421"
            ]
          },
          "metadata": {
            "tags": []
          },
          "execution_count": 33
        }
      ]
    },
    {
      "cell_type": "markdown",
      "metadata": {
        "id": "administrative-phoenix"
      },
      "source": [
        "### Ćwiczenie 6: Napisz funkcję fuzzy_lookup, która wyszuka w pamięci tłumaczeń wszystkie zdania, których podobieństwo Levenshteina do zdania wyszukiwanego jest większe lub równe od ustalonego progu."
      ],
      "id": "administrative-phoenix"
    },
    {
      "cell_type": "code",
      "metadata": {
        "id": "genetic-cradle",
        "colab": {
          "base_uri": "https://localhost:8080/"
        },
        "outputId": "93539d80-bf2c-4f73-a077-cb3a8cc2a4c8"
      },
      "source": [
        "def fuzzy_lookup(sentence, threshold):\n",
        "    return [entry[1] for entry in translation_memory if levenshtein_similarity(entry[0], sentence) >= threshold]\n",
        "\n",
        "fuzzy_lookup('Wciśnij przycisk Enterrr', 0.90)"
      ],
      "id": "genetic-cradle",
      "execution_count": null,
      "outputs": [
        {
          "output_type": "execute_result",
          "data": {
            "text/plain": [
              "['Press the ENTER button']"
            ]
          },
          "metadata": {
            "tags": []
          },
          "execution_count": 41
        }
      ]
    }
  ]
}