{
  "nbformat": 4,
  "nbformat_minor": 5,
  "metadata": {
    "kernelspec": {
      "display_name": "Python 3",
      "language": "python",
      "name": "python3"
    },
    "language_info": {
      "codemirror_mode": {
        "name": "ipython",
        "version": 3
      },
      "file_extension": ".py",
      "mimetype": "text/x-python",
      "name": "python",
      "nbconvert_exporter": "python",
      "pygments_lexer": "ipython3",
      "version": "3.8.5"
    },
    "colab": {
      "name": "lab_06.ipynb",
      "provenance": [],
      "collapsed_sections": [],
      "toc_visible": true,
      "include_colab_link": true
    }
  },
  "cells": [
    {
      "cell_type": "markdown",
      "metadata": {
        "id": "view-in-github",
        "colab_type": "text"
      },
      "source": [
        "<a href=\"https://colab.research.google.com/github/pietrzakkuba/computer-assisted-translation-labs/blob/main/lab_06.ipynb\" target=\"_parent\"><img src=\"https://colab.research.google.com/assets/colab-badge.svg\" alt=\"Open In Colab\"/></a>"
      ]
    },
    {
      "cell_type": "markdown",
      "metadata": {
        "id": "expanded-entrance"
      },
      "source": [
        "# Komputerowe wspomaganie tłumaczenia"
      ],
      "id": "expanded-entrance"
    },
    {
      "cell_type": "markdown",
      "metadata": {
        "id": "atlantic-greenhouse"
      },
      "source": [
        "# Zajęcia 6 - wykorzystanie tłumaczenia automatycznego we wspomaganiu tłumaczenia"
      ],
      "id": "atlantic-greenhouse"
    },
    {
      "cell_type": "markdown",
      "metadata": {
        "id": "hungarian-davis"
      },
      "source": [
        "W dzisiejszych czasach, niezwykle ważną techniką wspomagania tłumaczenia jest użycie tłumaczenia maszynowego. Tekst źródłowy do tłumaczenia jest najpierw tłumaczony całkowicie autommatycznie, a następnie tłumacz ludzki dokonuje korekty wyniku. Technologia tłumaczenia maszynowego jest już na tyle dojrzała, że oferuje bardzo wysoką jakość wyników. Coraz częstsze stają się scenariusze, w których ludzka korekta to niemal całkowicie machinalne (sic!) zatwierdzanie wyników tłumaczenia maszynowego. Na dzisiejszych zajęciach poznamy techniki ewaluacji tłumaczenia maszynowego oraz sprawdzania jego przydatności w procesie wspomagania tłumaczenia ludzkiego."
      ],
      "id": "hungarian-davis"
    },
    {
      "cell_type": "markdown",
      "metadata": {
        "id": "posted-commons"
      },
      "source": [
        "Jakość tłumaczenia maszynowego możemy oceniać na dwóch niezależnych płaszczyznach: dokładność i płynność. Płynność jest subiektywnie odbieranym odczuciem, że czytany tekst jest napisany językiem naturalnym i zrozumiałym. Systemy tłumaczenia maszynowego oparte na uczeniu głębokim z wykorzystaniem sieci neuronowych osiągają duży stopień płynności tłumaczenia. Niestety jednak ich dokładność nie zawsze jest równie wysoka."
      ],
      "id": "posted-commons"
    },
    {
      "cell_type": "markdown",
      "metadata": {
        "id": "referenced-implement"
      },
      "source": [
        "Dokładność tłumaczenia maszynowego jest parametrem, który łatwiej zmierzyć. Wartość takich pomiarów daje obraz tego, jaka jest faktyczna jakość tłumaczenia maszynowego i jaka jest jego potencjalna przydatność we wspomaganiu tłumaczenia."
      ],
      "id": "referenced-implement"
    },
    {
      "cell_type": "markdown",
      "metadata": {
        "id": "disturbed-january"
      },
      "source": [
        "Najczęściej stosowaną techniką oceny tłumaczenia maszynowego jest ocena BLEU. Do obliczenia tej oceny potrzebny jest wynik tłumaczenia maszynowego oraz referencyjne tłumaczenie ludzkie wysokiej jakości."
      ],
      "id": "disturbed-january"
    },
    {
      "cell_type": "markdown",
      "metadata": {
        "id": "dental-combination"
      },
      "source": [
        "### Ćwiczenie 1: Zaimplementuj program do obliczania oceny BLEU dla korpusu w folderze data. Użyj implementacji BLEU z pakietu nltk. Dodatkowe wymaganie techniczne - napisz program tak, aby nie musiał rozpakwowywać pliku zip z korpusem na dysku."
      ],
      "id": "dental-combination"
    },
    {
      "cell_type": "code",
      "metadata": {
        "colab": {
          "base_uri": "https://localhost:8080/"
        },
        "id": "moving-clothing",
        "outputId": "ab0f53fb-282b-4fb1-c3b5-f1509c9b297b"
      },
      "source": [
        "from nltk.translate.bleu_score import corpus_bleu, sentence_bleu, SmoothingFunction\n",
        "from nltk.tokenize import word_tokenize, sent_tokenize\n",
        "import zipfile\n",
        "from statistics import mean\n",
        "\n",
        "\n",
        "def calculate_bleu():\n",
        "    with zipfile.ZipFile('corpus_corrected.zip', 'r') as archive:\n",
        "        de_human = sent_tokenize(archive.read('corpus_de_human.txt').decode('utf-8'))\n",
        "        de_nmt = sent_tokenize(archive.read('corpus_de_nmt.txt').decode('utf-8'))\n",
        "        scores = []\n",
        "        smoothie = SmoothingFunction().method7\n",
        "        for sent_human, sent_nmt in zip(de_human, de_nmt):\n",
        "            words_human = word_tokenize(sent_human)\n",
        "            words_nmt = word_tokenize(sent_nmt)\n",
        "            try:\n",
        "                scores.append(sentence_bleu([words_human], words_nmt, smoothing_function=smoothie))\n",
        "            except:\n",
        "                scores.append(0.5)\n",
        "    return mean(scores)\n",
        "\n",
        "calculate_bleu()"
      ],
      "id": "moving-clothing",
      "execution_count": null,
      "outputs": [
        {
          "output_type": "execute_result",
          "data": {
            "text/plain": [
              "0.291773144016802"
            ]
          },
          "metadata": {
            "tags": []
          },
          "execution_count": 2
        }
      ]
    },
    {
      "cell_type": "markdown",
      "metadata": {
        "id": "jewish-ethics"
      },
      "source": [
        "### Ćwiczenie 2: Oblicz wartość bleu na różnych fragmentach przykładowego korpusu (np. na pierwszych 100 zdaniach, zdaniach 500-600). Czy w jakimś fragmencie korpusu jakość tłumaczenia znacząco odbiega od średniej?"
      ],
      "id": "jewish-ethics"
    },
    {
      "cell_type": "code",
      "metadata": {
        "colab": {
          "base_uri": "https://localhost:8080/"
        },
        "id": "lasting-rolling",
        "outputId": "d262a0c8-89b5-4184-821d-3c6c40973caa"
      },
      "source": [
        "def analyze_bleu():\n",
        "    with zipfile.ZipFile('corpus_corrected.zip', 'r') as archive:\n",
        "        de_human = sent_tokenize(archive.read('corpus_de_human.txt').decode('utf-8'))\n",
        "        de_nmt = sent_tokenize(archive.read('corpus_de_nmt.txt').decode('utf-8'))\n",
        "        scores = []\n",
        "        scores_means = []\n",
        "        smoothie = SmoothingFunction().method7\n",
        "        for index, (sent_human, sent_nmt) in enumerate(zip(de_human, de_nmt)):\n",
        "            words_human = word_tokenize(sent_human)\n",
        "            words_nmt = word_tokenize(sent_nmt)\n",
        "            try:\n",
        "                scores.append(sentence_bleu([words_human], words_nmt, smoothing_function=smoothie))\n",
        "            except:\n",
        "                scores.append(0.5)\n",
        "            if index % 100 == 99:\n",
        "                scores_means.append(mean(scores))\n",
        "                scores = []\n",
        "    return scores_means\n",
        "\n",
        "analyze_bleu()"
      ],
      "id": "lasting-rolling",
      "execution_count": null,
      "outputs": [
        {
          "output_type": "execute_result",
          "data": {
            "text/plain": [
              "[0.7101945871701627,\n",
              " 0.24108480188163067,\n",
              " 0.25832618736503127,\n",
              " 0.24038233553178087,\n",
              " 0.25185519668555506,\n",
              " 0.231676401726062,\n",
              " 0.25200237796517844,\n",
              " 0.2490376106087679,\n",
              " 0.24146238507137413,\n",
              " 0.25557501723145853]"
            ]
          },
          "metadata": {
            "tags": []
          },
          "execution_count": 3
        }
      ]
    },
    {
      "cell_type": "markdown",
      "metadata": {
        "id": "listed-bikini"
      },
      "source": [
        "Inną metodą oceny jakości tłumaczenia maszynowego jest parametr WER - Word Error Rate. Definiuje się on w następujący sposób:\n",
        "\n",
        "$WER = \\frac{S+D+I}{N}=\\frac{S+D+I}{S+D+C}$\n",
        "\n",
        "gdzie:\n",
        " * S - liczba substytucji (słów)\n",
        " * D - liczba usunięć\n",
        " * I - liczba wstawień\n",
        " * C - liczba poprawnych śłów\n",
        " * N - liczba słów w tłumaczeniu referencyjnym (N=S+D+C)"
      ],
      "id": "listed-bikini"
    },
    {
      "cell_type": "markdown",
      "metadata": {
        "id": "conscious-cookbook"
      },
      "source": [
        "Miara ta jest zwykle używana w do oceny systemów automatycznego rozpoznawania mowy, jednak w kontekście wspomagania tłumaczenia może być rozumiana jako wielkość nakładu pracy tłumacza nad poprawieniem tłumaczenia maszynowego."
      ],
      "id": "conscious-cookbook"
    },
    {
      "cell_type": "markdown",
      "metadata": {
        "id": "split-palace"
      },
      "source": [
        "### Ćwiczenie 3: Oblicz wartość WER dla przykładowego korpusu. Skorzystaj z gotowej implementacji WER."
      ],
      "id": "split-palace"
    },
    {
      "cell_type": "code",
      "metadata": {
        "colab": {
          "base_uri": "https://localhost:8080/"
        },
        "id": "occupied-swing",
        "outputId": "7bc1d4b5-39e0-4c13-b406-577390376898"
      },
      "source": [
        "from jiwer import wer\n",
        "\n",
        "def calculate_wer():\n",
        "    with zipfile.ZipFile('corpus_corrected.zip', 'r') as archive:\n",
        "        de_human = sent_tokenize(archive.read('corpus_de_human.txt').decode('utf-8'))\n",
        "        de_nmt = sent_tokenize(archive.read('corpus_de_nmt.txt').decode('utf-8'))\n",
        "        scores = []\n",
        "        for sent_human, sent_nmt in zip(de_human, de_nmt):\n",
        "            scores.append(wer(sent_human, sent_nmt))\n",
        "    return sum(scores)\n",
        "\n",
        "calculate_wer()"
      ],
      "id": "occupied-swing",
      "execution_count": null,
      "outputs": [
        {
          "output_type": "execute_result",
          "data": {
            "text/plain": [
              "1300.3810985454709"
            ]
          },
          "metadata": {
            "tags": []
          },
          "execution_count": 4
        }
      ]
    },
    {
      "cell_type": "markdown",
      "metadata": {
        "id": "stretch-wound"
      },
      "source": [
        "Poza wymienionymi powyżej, stosować można jeszcze inne miary oparte na porównywaniu tłumaczenia maszynowego z ludzkim. Przypomnijmy sobie jedną, którą stosowaliśmy wcześniej."
      ],
      "id": "stretch-wound"
    },
    {
      "cell_type": "markdown",
      "metadata": {
        "id": "abstract-wilderness"
      },
      "source": [
        "### Ćwiczenie 4: Oblicz średnią wartość dystansu Levenshteina pomiędzy zdaniami przetłumaczonymi automatycznie oraz przez człowieka. Użyj implementacji z ćwiczeń nr 2."
      ],
      "id": "abstract-wilderness"
    },
    {
      "cell_type": "code",
      "metadata": {
        "colab": {
          "base_uri": "https://localhost:8080/"
        },
        "id": "immediate-element",
        "outputId": "7581903c-385a-4d67-cb0a-81ff50c65f9a"
      },
      "source": [
        "from Levenshtein import distance as levenshtein_distance\n",
        "\n",
        "def calculate_levenshtein():\n",
        "    with zipfile.ZipFile('corpus_corrected.zip', 'r') as archive:\n",
        "        de_human = sent_tokenize(archive.read('corpus_de_human.txt').decode('utf-8'))\n",
        "        de_nmt = sent_tokenize(archive.read('corpus_de_nmt.txt').decode('utf-8'))\n",
        "        scores = []\n",
        "        for sent_human, sent_nmt in zip(de_human, de_nmt):\n",
        "            scores.append(levenshtein_distance(sent_human, sent_nmt))\n",
        "    return mean(scores)\n",
        "\n",
        "calculate_levenshtein()"
      ],
      "id": "immediate-element",
      "execution_count": null,
      "outputs": [
        {
          "output_type": "execute_result",
          "data": {
            "text/plain": [
              "100.65493646138808"
            ]
          },
          "metadata": {
            "tags": []
          },
          "execution_count": 5
        }
      ]
    },
    {
      "cell_type": "markdown",
      "metadata": {
        "id": "filled-burton"
      },
      "source": [
        "A teraz sprawdźmy coś jeszcze. W danych przykładowego korpusu znajduje się także angielski tekst źródłowy. Teoretycznie, dobre tłumaczenie niemieckie powinno zawierać jak najwięcej słów z angielskiego źródła. Wykonajmy najstępujący eksperyment:"
      ],
      "id": "filled-burton"
    },
    {
      "cell_type": "markdown",
      "metadata": {
        "id": "grateful-recruitment"
      },
      "source": [
        "### Ćwiczenie 5: Dla każdej trójki zdań z korpusu przykładowego wykonaj następujące kroki:\n",
        " * Przetłumacz każde angielskie słowo na niemiecki przy użyciu modułu PyDictionary.\n",
        " * Sprawdź, które z niemieckich tłumaczeń zawiera więcej spośród tych przetłumaczonych słów - automatyczne, czy ludzkie.\n",
        "Następnie wypisz statystyki zbiorcze. Które tłumaczenie zawiera więcej słownikowych tłumaczeń słów ze źródła?"
      ],
      "id": "grateful-recruitment"
    },
    {
      "cell_type": "code",
      "metadata": {
        "colab": {
          "base_uri": "https://localhost:8080/"
        },
        "id": "descending-easter",
        "outputId": "a6ab18e3-59e9-4aa0-9dee-3b33e9aede0f"
      },
      "source": [
        "from PyDictionary import PyDictionary\n",
        "\n",
        "def analyze_translations():\n",
        "    dictionary = PyDictionary()\n",
        "    with zipfile.ZipFile('corpus_corrected.zip', 'r') as archive:\n",
        "        en = sent_tokenize(archive.read('corpus_en.txt').decode('utf-8'))\n",
        "        de_human = sent_tokenize(archive.read('corpus_de_human.txt').decode('utf-8'))\n",
        "        de_nmt = sent_tokenize(archive.read('corpus_de_nmt.txt').decode('utf-8'))\n",
        "        results = []\n",
        "        for sent_en, sent_human, sent_nmt in zip(en, de_human, de_nmt):\n",
        "            words_en = word_tokenize(sent_en)\n",
        "            translated_words = [dictionary.translate(word, 'de') for word in words_en]\n",
        "            words_human = word_tokenize(sent_human)\n",
        "            words_nmt = word_tokenize(sent_nmt)\n",
        "            same_words_human = len(list(set(translated_words).intersection(words_human)))\n",
        "            same_wprds_nmt = len(list(set(translated_words).intersection(words_nmt)))\n",
        "            results.append((same_words_human, same_wprds_nmt))\n",
        "    return results\n",
        "\n",
        "analyze_translations()\n",
        "\n",
        "# dla każdego słowa zwraca Invalid Word :("
      ],
      "id": "descending-easter",
      "execution_count": null,
      "outputs": [
        {
          "output_type": "stream",
          "text": [
            "Invalid Word\n",
            "Invalid Word\n",
            "Invalid Word\n",
            "Invalid Word\n",
            "Invalid Word\n",
            "Invalid Word\n",
            "Invalid Word\n",
            "Invalid Word\n",
            "Invalid Word\n",
            "Invalid Word\n",
            "Invalid Word\n",
            "Invalid Word\n",
            "Invalid Word\n",
            "Invalid Word\n",
            "Invalid Word\n",
            "Invalid Word\n",
            "Invalid Word\n",
            "Invalid Word\n",
            "Invalid Word\n",
            "Invalid Word\n",
            "Invalid Word\n",
            "Invalid Word\n",
            "Invalid Word\n",
            "Invalid Word\n",
            "Invalid Word\n",
            "Invalid Word\n",
            "Invalid Word\n",
            "Invalid Word\n",
            "Invalid Word\n",
            "Invalid Word\n",
            "Invalid Word\n",
            "Invalid Word\n",
            "Invalid Word\n",
            "Invalid Word\n",
            "Invalid Word\n",
            "Invalid Word\n",
            "Invalid Word\n",
            "Invalid Word\n",
            "Invalid Word\n",
            "Invalid Word\n"
          ],
          "name": "stdout"
        }
      ]
    }
  ]
}