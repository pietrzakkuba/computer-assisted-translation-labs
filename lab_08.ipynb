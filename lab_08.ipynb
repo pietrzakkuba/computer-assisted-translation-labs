{
  "nbformat": 4,
  "nbformat_minor": 5,
  "metadata": {
    "kernelspec": {
      "display_name": "Python 3",
      "language": "python",
      "name": "python3"
    },
    "language_info": {
      "codemirror_mode": {
        "name": "ipython",
        "version": 3
      },
      "file_extension": ".py",
      "mimetype": "text/x-python",
      "name": "python",
      "nbconvert_exporter": "python",
      "pygments_lexer": "ipython3",
      "version": "3.8.5"
    },
    "colab": {
      "name": "lab_08.ipynb",
      "provenance": [],
      "include_colab_link": true
    }
  },
  "cells": [
    {
      "cell_type": "markdown",
      "metadata": {
        "id": "view-in-github",
        "colab_type": "text"
      },
      "source": [
        "<a href=\"https://colab.research.google.com/github/pietrzakkuba/computer-assisted-translation-labs/blob/main/lab_08.ipynb\" target=\"_parent\"><img src=\"https://colab.research.google.com/assets/colab-badge.svg\" alt=\"Open In Colab\"/></a>"
      ]
    },
    {
      "cell_type": "markdown",
      "metadata": {
        "id": "expanded-entrance"
      },
      "source": [
        "# Komputerowe wspomaganie tłumaczenia"
      ],
      "id": "expanded-entrance"
    },
    {
      "cell_type": "markdown",
      "metadata": {
        "id": "atlantic-greenhouse"
      },
      "source": [
        "# Zajęcia 8 - urównoleglanie"
      ],
      "id": "atlantic-greenhouse"
    },
    {
      "cell_type": "markdown",
      "metadata": {
        "id": "hungarian-davis"
      },
      "source": [
        "Na poprzednich zajęciach poznaliśmy techniki pozyskiwania tekstu z Internetu. Jeśli uda nam się w ten sposób pozyskać tekst w jednym języku oraz jego tłumaczenie na inny język, jesteśmy tylko o krok od uzyskania najbardziej przydatnego zasobu z punktu widzenia wspomagania tłumaczenia - pamięci tłumaczeń. Krokiem tym jest automatyczne urównoleglanie tekstu."
      ],
      "id": "hungarian-davis"
    },
    {
      "cell_type": "markdown",
      "metadata": {
        "id": "bronze-removal"
      },
      "source": [
        "Automatyczne urównoleglanie tekstu składa się z dwóch kroków:\n",
        "1. Podziału tekstu źródłowego oraz docelowego na zdania.\n",
        "2. Dopasowaniu zdań źródłowych do docelowych."
      ],
      "id": "bronze-removal"
    },
    {
      "cell_type": "markdown",
      "metadata": {
        "id": "junior-works"
      },
      "source": [
        "Zdania, o których mowa w punkcie 1., powinniśmy rozumieć jako segmenty, tj. niekoniecznie kompletne zdania w sensie gramatycznym. Standardowym sposobem podziału tekstu na segmenty jest dzielenie po znaku nowej linii lub zaraz po kropce, o ile jest ona częścią sekwencji: \".[spacja][Wielka litera]\""
      ],
      "id": "junior-works"
    },
    {
      "cell_type": "markdown",
      "metadata": {
        "id": "legitimate-corrections"
      },
      "source": [
        "### Ćwiczenie 1: Zaimplementuj podstawowy algorytm segmentacji tekstu. Użyj odpowiedniego wyrażenia regularnego, łapiącego wielkie litery w dowolnym języku, np. \"Ż\" (użyj klasy unikodowej). Zwróć listę segmentów."
      ],
      "id": "legitimate-corrections"
    },
    {
      "cell_type": "code",
      "metadata": {
        "colab": {
          "base_uri": "https://localhost:8080/"
        },
        "id": "german-dispute",
        "outputId": "30a08bf6-b8c7-484b-ad86-0ef998bf31e9"
      },
      "source": [
        "import regex\n",
        "\n",
        "def sentence_split(text):\n",
        "    sentences = []\n",
        "    sentence_end = None\n",
        "    sentence_start = 0\n",
        "    for match in regex.finditer('\\. \\p{Lu}', text):\n",
        "        sentence_end = match.start() + 1\n",
        "        sentences.append((text[sentence_start:sentence_end]))\n",
        "        sentence_start = match.end() - 1\n",
        "    sentences.append(text[sentence_start:])\n",
        "    return sentences\n",
        "\n",
        "sentence_split('Żółwie (nazwa systematyczna nieustalona, zobacz Nomenklatura) – rząd owodniowców z gromady zauropsydów (Sauropsida)[1] lub według linneuszowskiej klasyfikacji rząd z gromady gadów (Reptilia). Rząd żółwi dzieli się na 2 podrzędy, 14[2] rodzin i obejmuje 356 gatunków oraz 122 podgatunki żyjące w czasach nowożytnych, tj. od 1500 roku n.e. W tym czasie wyginęło 7 gatunków oraz 3 podgatunki[3].')"
      ],
      "id": "german-dispute",
      "execution_count": null,
      "outputs": [
        {
          "output_type": "execute_result",
          "data": {
            "text/plain": [
              "['Żółwie (nazwa systematyczna nieustalona, zobacz Nomenklatura) – rząd owodniowców z gromady zauropsydów (Sauropsida)[1] lub według linneuszowskiej klasyfikacji rząd z gromady gadów (Reptilia).',\n",
              " 'Rząd żółwi dzieli się na 2 podrzędy, 14[2] rodzin i obejmuje 356 gatunków oraz 122 podgatunki żyjące w czasach nowożytnych, tj. od 1500 roku n.e.',\n",
              " 'W tym czasie wyginęło 7 gatunków oraz 3 podgatunki[3].']"
            ]
          },
          "metadata": {
            "tags": []
          },
          "execution_count": 46
        }
      ]
    },
    {
      "cell_type": "markdown",
      "metadata": {
        "id": "continued-assessment"
      },
      "source": [
        "### Ćwiczenie 2: Uruchom powyższy algorytm na treści wybranej przez siebie strony internetowej (do ściągnięcia treści strony wykorzystaj kod z laboratoriów nr 7). Zidentyfikuj co najmniej dwa wyjątki od ogólnej reguły podziału na segmenty i ulepsz algorytm."
      ],
      "id": "continued-assessment"
    },
    {
      "cell_type": "code",
      "metadata": {
        "colab": {
          "base_uri": "https://localhost:8080/"
        },
        "id": "guilty-morocco",
        "outputId": "cd861d01-1bee-4d3e-e7f1-5cd0a6e795be"
      },
      "source": [
        "import requests\n",
        "from bs4 import BeautifulSoup\n",
        "\n",
        "def scrape_by_url(url):\n",
        "    page = requests.get(url)\n",
        "    soup = BeautifulSoup(page.content, 'html.parser')\n",
        "    for script in soup.find_all(['script', 'style']):\n",
        "        script.extract()\n",
        "    text = soup.text.strip()\n",
        "    return regex.sub(r\"\\s+\", \" \", text)\n",
        "\n",
        "def sentence_split_enhanced(text):\n",
        "    sentences = []\n",
        "    sentence_end = None\n",
        "    sentence_start = 0\n",
        "    for match in regex.finditer('(?<!(mgr|dr|mjr|np|hab))\\. \\p{Lu}', text):\n",
        "        sentence_end = match.start() + 1\n",
        "        sentences.append((text[sentence_start:sentence_end]))\n",
        "        sentence_start = match.end() - 1\n",
        "    sentences.append(text[sentence_start:])\n",
        "    return sentences\n",
        "\n",
        "scraped_text = scrape_by_url('https://polszczyzna.pl/pisownia-skrotow-czyli-skracac-slowa-by-stracily-fasonu/')\n",
        "print('PRZED:')\n",
        "print(sentence_split(scraped_text))\n",
        "print('PO:')\n",
        "print(sentence_split_enhanced(scraped_text))"
      ],
      "id": "guilty-morocco",
      "execution_count": null,
      "outputs": [
        {
          "output_type": "stream",
          "text": [
            "PRZED:\n",
            "['Pisownia skrótów, czyli jak skracać słowa, by nie straciły fasonu SekcjeSklep Błędy językowe Błędy gramatyczne Błędy leksykalne Błędy stylistyczne Błędy ortograficzne Błędy interpunkcyjne Poradnia Ciekawostki Sprawdź pisownię Słownik Dyktanda i quizy Informacje Kontakt O nas Polityka prywatności Sekcje Sklep Błędy językowe Błędy gramatyczne Błędy leksykalne Błędy stylistyczne Błędy ortograficzne Błędy interpunkcyjne Poradnia Ciekawostki Sprawdź pisownię Słownik Dyktanda i quizy Informacje Kontakt O nas Polityka prywatności Sklep Błędy językowe Błędy gramatyczne Błędy leksykalne Błędy stylistyczne Błędy ortograficzne Błędy interpunkcyjne Poradnia Ciekawostki Sprawdź pisownię Słownik Dyktanda i quizy Informacje Kontakt O nas Polityka prywatności Sklep Błędy językowe Błędy gramatyczne Błędy leksykalne Błędy stylistyczne Błędy ortograficzne Błędy interpunkcyjne Poradnia językowa Ciekawostki Słownik Dyktanda i quizy Informacje Kontakt O nas Polityka prywatności Sprawdź pisownię 3.1kUDOSTĘPNIEŃUdostępnijĆwierknij Pisownia skrótów, czyli jak skracać słowa, by nie straciły fasonu Stosowanie skrótów to świetne rozwiązanie – możemy w szybki sposób zakomunikować to, co mamy na myśli, używając zaledwie kilku liter.', 'I wszyscy wiedzą, o co chodzi! Skracane są słowa powszechnie znane i stosowane, np. jednostki miary i wagi, tytuły i stanowiska, dlatego utworzone od nich skróty nie powinny budzić wątpliwości.', 'Z tego tekstu dowiecie się co nieco na temat pisowni skrótów – dlaczego nie można napisać „Nakło n/Notecią”, wgl, nwm oraz że wyraz „strona” skrócić możemy na dwa sposoby.', 'Źródło: bazakolejowa.pl Ekonomia języka Język też podlega regułom ekonomii – chcemy wyrazić jak najwięcej, ale jak najmniejszym kosztem.', 'Z tego powodu tworzymy skróty.', 'Czy chcielibyście każdorazowo pisać „przed naszą erą” czy „doktor habilitowany”? Z pewnością odpowiecie przecząco, z tego więc powodu korzystamy z ogólnie przyjętych krótkich zapisów: p.n.e. i dr hab.', 'Na co dzień dążymy do wygody i oszczędzania czasu, dlatego tendencja ta zauważalna jest także w języku, szczególnie stosowanym w internecie czy w SMS-ach.', 'Skróty w języku młodzieży i w internecie W internetowym języku młodzieży zauważyć można takie cuda jak wgl (w ogóle), bd (będę), nwm (nie wiem) – zwróćcie uwagę, że regułą tworzenia takich skrótów jest wybranie ze skracanego słowa jedynie spółgłosek.', 'Takiego zapisu nie znajdziecie w słownikach, co świadczy o tym, że nie powinniśmy ich stosować.', 'Inną tendencją są też ucięcia morfologiczne, czyli „obcinanie” części wyrazu, np. komp, nara, spoko, bro, Wro, siemka, egzam.', 'Na pewno każdy z Was spotkał się z tym zjawiskiem.', 'W tym miejscu zadajmy sobie żartobliwe pytanie: Co ludzie, skracający wyrazy w ten sposób, robią z zaoszczędzonym czasem? To tyle o dążeniach młodych Polaków do skrótowości.', 'Przejdźmy zatem do rzeczy, czyli jak należy poprawnie zapisywać skróty.', 'Małe litery tutaj rządzą W niemal wszystkich wypadkach skróty zapisujemy małymi literami.', 'Wyjątki to międzynarodowe oznaczenia pierwiastków (np.', 'Ra – rad, S – siarka), niektórych jednostek miary (np. hPa – hektopaskal, A – amper), niektóre skróty łacińskie (np.', 'P.T. – pleno titulo, czyli „z zachowaniem należnych tytułów”).', 'Zainteresuje Cię również: Tu i ówdzie, w tę i we w tę, gdzieniegdzie… Pisownia łączna i rozłączna kłopotliwych słów i wyrażeń Z kropką czy bez? Większość skrótów ma na końcu kropkę.', 'Ogólna zasada zapisywania skrótów jest taka, że kropkę stawiamy, kiedy wyraz został ucięty, a nie stawiamy, kiedy skrót kończy się ostatnią literą wyrazu: prof. – z kropką, wyraz ucięty; dr – bez kropki, skrót kończy się ostatnią literą wyrazu skróconego.', 'Wydaje się to jasne i logiczne, ale… Dlaczego piszemy 2 zł a nie 2 zł.? Przecież to wyraz ucięty! Skróty bez kropki Kropki nie stawiamy: w skrótach polskich jednostek monetarnych, czyli zł – złoty, gr – grosz; w skrótach jednostek miar, wag, czasu, np. g – gram, kg – kilogram, cm – centymetr, m – metr, h – godzina; w skrótach matematycznych i fizycznych: cos – cosinus, sin – sinus; Oczywiście pamiętajcie o tym, co przeczytaliście przed chwilą – jeśli w skrócie znajduje się ostatnia litera skróconego wyrazu, również nie stawiamy kropki.', 'Skróty z kropką Wyrazy ucięte, skróty oznaczające grupę wyrazów (itd. – i tak dalej; tzn. – to znaczy) zapisujemy z kropką.', 'W tym miejscu musimy jednak podkreślić, że w przypadkach zależnych (czyli innych niż mianownik) skróty, po których w mianowniku nie stawiamy kropki, tym razem powinny się nią zakończyć: rozprawa doktorska mgr.', 'Kowalskiego; nie ma dr.', 'Nowaka (uwaga, tutaj możemy napisać też dra Nowaka); decyzja mjr.', 'Sucharskiego.', 'Sprawdź również: Pozdrowienia znad morza, czyli o pisowni przyimków złożonych Haczyki, czyli podstępne skróty Mimo że polskie dworce kolejowe darzą szczególną miłością zapisy typu Nakło n/Notecią czy Ostrówki k/Chodzieży, są one błędne.', 'Otóż to… nie istnieją skróty k/ czy n/, mające rzekomo oznaczać odpowiednio koło i nad.', 'Prawidłowe zapisy wyglądają następująco: Nakło n.', 'Notecią i Ostrówki k.', 'Chodzieży.', 'Podobnie jest z ww. (wyżej wymieniony) – tu też nie stosujemy ukośnika.', 'Warto wspomnieć o skrótach tys. i os.', 'Jeśli skrót kończy się na spółgłoskę miękką, której miękkość oznaczona jest w wyrazie nieskróconym literą i, to w skrócie nie zaznaczamy tej miękkości.', 'Formy typu: tyś czy tyś. są niepoprawne! A czym różnią się skróty: s i s., t i t.? s – sekunda, s. – strona (uwaga, str. to inna forma tego skrótu); t – tona, t. – tom. ? Zainteresuje Cię również: TAGI błędy interpunkcyjnepisownia skrótówskróty Napisane przez Marika Naskręt Absolwentka Wydziału Filologii Polskiej i Klasycznej na UAM w Poznaniu.', 'Od 2013 r. pracuje jako nauczycielka języka polskiego, zajmuje się również pisaniem tekstów.', 'Język ojczysty uwielbia od zawsze.', 'GORĄCE TEMATY! 🔥🔥🔥 Kiedy słownik wie lepiej… Zabawne przejęzyczenia powstałe w wyniku użycia autokorekty Jątrew, paszenog i szurzyna – staropolskie nazwy stopni pokrewieństwa Czas zaprzeszły w języku polskim – czy odszedł już do lamusa? PORADNIA JĘZYKOWA 📚 Żaden czy rzaden? Rozwiewamy wątpliwości! Badminton czy babington – jak właściwie nazywa się ten sport? Z Szwajcarii czy ze Szwajcarii – który przyimek wybrać? Ponad to czy ponadto? Czy wiesz, jak zapisać to wyrażenie? Stąd czy z tąd? Czy wiesz, jak zapisać ten wyraz? Karze czy każe? Czy wiesz, kiedy użyć którego czasownika? Fanpage czy funpage? O poprawnej formie oraz odmianie tego słowa KILKA SŁÓW O INICJATYWIE Dyskutujemy o zawiłościach, odpowiadamy na pytania naszych czytelników, dzielimy się ciekawostkami oraz refleksjami na temat języka ojczystego. 😊 Jeśli chcesz nas o coś zapytać, masz dla nas propozycję, sugestię lub inny istotny komunikat, napisz śmiało! PS Pozostańmy w kontakcie, szukaj nas również na Instagramie i Facebooku.', 'WARTO PRZECZYTAĆ Chcąc nie chcąc – znaczenie, interpunkcja, przykłady Umiem czy umię? Który sposób odmiany jest poprawny? Zresztą czy z resztą – razem czy osobno? Oto czy o to – którą formę wybrać? Nagroda Nobla, Oscary – pisownia nazw nagród ZAPISZ SIĘ DO BIULETYNU Imię Adres email Zapisz się Korzystanie z naszej strony oznacza zgodę na wykorzystywanie plików cookie.', 'Więcej informacji można znaleźć w Polityce Prywatności.', 'Zgadzam się X']\n",
            "PO:\n",
            "['Pisownia skrótów, czyli jak skracać słowa, by nie straciły fasonu SekcjeSklep Błędy językowe Błędy gramatyczne Błędy leksykalne Błędy stylistyczne Błędy ortograficzne Błędy interpunkcyjne Poradnia Ciekawostki Sprawdź pisownię Słownik Dyktanda i quizy Informacje Kontakt O nas Polityka prywatności Sekcje Sklep Błędy językowe Błędy gramatyczne Błędy leksykalne Błędy stylistyczne Błędy ortograficzne Błędy interpunkcyjne Poradnia Ciekawostki Sprawdź pisownię Słownik Dyktanda i quizy Informacje Kontakt O nas Polityka prywatności Sklep Błędy językowe Błędy gramatyczne Błędy leksykalne Błędy stylistyczne Błędy ortograficzne Błędy interpunkcyjne Poradnia Ciekawostki Sprawdź pisownię Słownik Dyktanda i quizy Informacje Kontakt O nas Polityka prywatności Sklep Błędy językowe Błędy gramatyczne Błędy leksykalne Błędy stylistyczne Błędy ortograficzne Błędy interpunkcyjne Poradnia językowa Ciekawostki Słownik Dyktanda i quizy Informacje Kontakt O nas Polityka prywatności Sprawdź pisownię 3.1kUDOSTĘPNIEŃUdostępnijĆwierknij Pisownia skrótów, czyli jak skracać słowa, by nie straciły fasonu Stosowanie skrótów to świetne rozwiązanie – możemy w szybki sposób zakomunikować to, co mamy na myśli, używając zaledwie kilku liter.', 'I wszyscy wiedzą, o co chodzi! Skracane są słowa powszechnie znane i stosowane, np. jednostki miary i wagi, tytuły i stanowiska, dlatego utworzone od nich skróty nie powinny budzić wątpliwości.', 'Z tego tekstu dowiecie się co nieco na temat pisowni skrótów – dlaczego nie można napisać „Nakło n/Notecią”, wgl, nwm oraz że wyraz „strona” skrócić możemy na dwa sposoby.', 'Źródło: bazakolejowa.pl Ekonomia języka Język też podlega regułom ekonomii – chcemy wyrazić jak najwięcej, ale jak najmniejszym kosztem.', 'Z tego powodu tworzymy skróty.', 'Czy chcielibyście każdorazowo pisać „przed naszą erą” czy „doktor habilitowany”? Z pewnością odpowiecie przecząco, z tego więc powodu korzystamy z ogólnie przyjętych krótkich zapisów: p.n.e. i dr hab. Na co dzień dążymy do wygody i oszczędzania czasu, dlatego tendencja ta zauważalna jest także w języku, szczególnie stosowanym w internecie czy w SMS-ach.', 'Skróty w języku młodzieży i w internecie W internetowym języku młodzieży zauważyć można takie cuda jak wgl (w ogóle), bd (będę), nwm (nie wiem) – zwróćcie uwagę, że regułą tworzenia takich skrótów jest wybranie ze skracanego słowa jedynie spółgłosek.', 'Takiego zapisu nie znajdziecie w słownikach, co świadczy o tym, że nie powinniśmy ich stosować.', 'Inną tendencją są też ucięcia morfologiczne, czyli „obcinanie” części wyrazu, np. komp, nara, spoko, bro, Wro, siemka, egzam.', 'Na pewno każdy z Was spotkał się z tym zjawiskiem.', 'W tym miejscu zadajmy sobie żartobliwe pytanie: Co ludzie, skracający wyrazy w ten sposób, robią z zaoszczędzonym czasem? To tyle o dążeniach młodych Polaków do skrótowości.', 'Przejdźmy zatem do rzeczy, czyli jak należy poprawnie zapisywać skróty.', 'Małe litery tutaj rządzą W niemal wszystkich wypadkach skróty zapisujemy małymi literami.', 'Wyjątki to międzynarodowe oznaczenia pierwiastków (np. Ra – rad, S – siarka), niektórych jednostek miary (np. hPa – hektopaskal, A – amper), niektóre skróty łacińskie (np. P.T. – pleno titulo, czyli „z zachowaniem należnych tytułów”).', 'Zainteresuje Cię również: Tu i ówdzie, w tę i we w tę, gdzieniegdzie… Pisownia łączna i rozłączna kłopotliwych słów i wyrażeń Z kropką czy bez? Większość skrótów ma na końcu kropkę.', 'Ogólna zasada zapisywania skrótów jest taka, że kropkę stawiamy, kiedy wyraz został ucięty, a nie stawiamy, kiedy skrót kończy się ostatnią literą wyrazu: prof. – z kropką, wyraz ucięty; dr – bez kropki, skrót kończy się ostatnią literą wyrazu skróconego.', 'Wydaje się to jasne i logiczne, ale… Dlaczego piszemy 2 zł a nie 2 zł.? Przecież to wyraz ucięty! Skróty bez kropki Kropki nie stawiamy: w skrótach polskich jednostek monetarnych, czyli zł – złoty, gr – grosz; w skrótach jednostek miar, wag, czasu, np. g – gram, kg – kilogram, cm – centymetr, m – metr, h – godzina; w skrótach matematycznych i fizycznych: cos – cosinus, sin – sinus; Oczywiście pamiętajcie o tym, co przeczytaliście przed chwilą – jeśli w skrócie znajduje się ostatnia litera skróconego wyrazu, również nie stawiamy kropki.', 'Skróty z kropką Wyrazy ucięte, skróty oznaczające grupę wyrazów (itd. – i tak dalej; tzn. – to znaczy) zapisujemy z kropką.', 'W tym miejscu musimy jednak podkreślić, że w przypadkach zależnych (czyli innych niż mianownik) skróty, po których w mianowniku nie stawiamy kropki, tym razem powinny się nią zakończyć: rozprawa doktorska mgr. Kowalskiego; nie ma dr. Nowaka (uwaga, tutaj możemy napisać też dra Nowaka); decyzja mjr. Sucharskiego.', 'Sprawdź również: Pozdrowienia znad morza, czyli o pisowni przyimków złożonych Haczyki, czyli podstępne skróty Mimo że polskie dworce kolejowe darzą szczególną miłością zapisy typu Nakło n/Notecią czy Ostrówki k/Chodzieży, są one błędne.', 'Otóż to… nie istnieją skróty k/ czy n/, mające rzekomo oznaczać odpowiednio koło i nad.', 'Prawidłowe zapisy wyglądają następująco: Nakło n.', 'Notecią i Ostrówki k.', 'Chodzieży.', 'Podobnie jest z ww. (wyżej wymieniony) – tu też nie stosujemy ukośnika.', 'Warto wspomnieć o skrótach tys. i os.', 'Jeśli skrót kończy się na spółgłoskę miękką, której miękkość oznaczona jest w wyrazie nieskróconym literą i, to w skrócie nie zaznaczamy tej miękkości.', 'Formy typu: tyś czy tyś. są niepoprawne! A czym różnią się skróty: s i s., t i t.? s – sekunda, s. – strona (uwaga, str. to inna forma tego skrótu); t – tona, t. – tom. ? Zainteresuje Cię również: TAGI błędy interpunkcyjnepisownia skrótówskróty Napisane przez Marika Naskręt Absolwentka Wydziału Filologii Polskiej i Klasycznej na UAM w Poznaniu.', 'Od 2013 r. pracuje jako nauczycielka języka polskiego, zajmuje się również pisaniem tekstów.', 'Język ojczysty uwielbia od zawsze.', 'GORĄCE TEMATY! 🔥🔥🔥 Kiedy słownik wie lepiej… Zabawne przejęzyczenia powstałe w wyniku użycia autokorekty Jątrew, paszenog i szurzyna – staropolskie nazwy stopni pokrewieństwa Czas zaprzeszły w języku polskim – czy odszedł już do lamusa? PORADNIA JĘZYKOWA 📚 Żaden czy rzaden? Rozwiewamy wątpliwości! Badminton czy babington – jak właściwie nazywa się ten sport? Z Szwajcarii czy ze Szwajcarii – który przyimek wybrać? Ponad to czy ponadto? Czy wiesz, jak zapisać to wyrażenie? Stąd czy z tąd? Czy wiesz, jak zapisać ten wyraz? Karze czy każe? Czy wiesz, kiedy użyć którego czasownika? Fanpage czy funpage? O poprawnej formie oraz odmianie tego słowa KILKA SŁÓW O INICJATYWIE Dyskutujemy o zawiłościach, odpowiadamy na pytania naszych czytelników, dzielimy się ciekawostkami oraz refleksjami na temat języka ojczystego. 😊 Jeśli chcesz nas o coś zapytać, masz dla nas propozycję, sugestię lub inny istotny komunikat, napisz śmiało! PS Pozostańmy w kontakcie, szukaj nas również na Instagramie i Facebooku.', 'WARTO PRZECZYTAĆ Chcąc nie chcąc – znaczenie, interpunkcja, przykłady Umiem czy umię? Który sposób odmiany jest poprawny? Zresztą czy z resztą – razem czy osobno? Oto czy o to – którą formę wybrać? Nagroda Nobla, Oscary – pisownia nazw nagród ZAPISZ SIĘ DO BIULETYNU Imię Adres email Zapisz się Korzystanie z naszej strony oznacza zgodę na wykorzystywanie plików cookie.', 'Więcej informacji można znaleźć w Polityce Prywatności.', 'Zgadzam się X']\n"
          ],
          "name": "stdout"
        }
      ]
    },
    {
      "cell_type": "markdown",
      "metadata": {
        "id": "experimental-recipient"
      },
      "source": [
        "Po podziale tekstu na segmenty po stronie źródłowej oraz docelowej, możemy przystąpić do kroku drugiego - dopasowania segmentów. Głównym wyzwaniem tego kroku jest fakt, iż po stronie źródłowej może być inna liczba segmentów, niż po stronie docelowej. Takie rozbieżności są bardzo częste, a wynikają między innymi z:\n",
        "* tłumaczenia jednego zdania źródłowego przy użyciu więcej niż jednego zdania\n",
        "* tłumaczenia więcej niż jednego zdania źródłowego przy użyciu jednego zdania\n",
        "* pominięcia zdania podczas tłumaczenia\n",
        "* rozbieżności pomiędzy wersjami tekstu źródłowego i docelowego (np. tekst źródłowy mógł być modyfikowany po przetłumaczeniu i tłumaczenie nie zostało zaktualizowane)\n",
        "* przetłumaczenia tekstu źródłowego tylko częściowo"
      ],
      "id": "experimental-recipient"
    },
    {
      "cell_type": "markdown",
      "metadata": {
        "id": "australian-hundred"
      },
      "source": [
        "Problemy te rozwiązwyane są na różne sposoby. Najpopularniejszym programem do przeprowadzania urównoleglania jest [Hunalign](https://github.com/danielvarga/hunalign). Wejściem do programu są dwa pliki, zawierające po jednym segmencie w linii. Wyjściem - plik urównoleglony w wewnętrznym formacie hunaligna."
      ],
      "id": "australian-hundred"
    },
    {
      "cell_type": "markdown",
      "metadata": {
        "id": "russian-chambers"
      },
      "source": [
        "### Ćwiczenie 3: Odnajdź dowolną stronę, która jest dostępna w wielu językach. Pobierz z tej strony tekst oryginalny (tylko ze strony głównej) oraz przetłumaczony na dowolny inny język. Przy użyciu Pythona przygotuj pliki dla Hunaligna i uruchom go."
      ],
      "id": "russian-chambers"
    },
    {
      "cell_type": "markdown",
      "metadata": {
        "id": "controlled-pacific"
      },
      "source": [
        "Wyjściem z Hunaligna jest plik w specjalnym formacie Hunaligna. Problem jednak w tym, że niestety nie można go w prosty sposób zaimportować do jakiegokolwiek narzędzia typu CAT. Potrzebna jest konwersja do któregoś z bardziej popularnych formatów, np. XLIFF."
      ],
      "id": "controlled-pacific"
    },
    {
      "cell_type": "markdown",
      "metadata": {
        "id": "divided-chain"
      },
      "source": [
        "XLIFF jest formatem do przechowywania pamięci tłumaczeń, który opiera się na XML-u. Przykładowy plik XLIFF wygląda następująco:"
      ],
      "id": "divided-chain"
    },
    {
      "cell_type": "markdown",
      "metadata": {
        "id": "appropriate-timber"
      },
      "source": [
        "<?xml version=\"1.0\" encoding=\"UTF-8\"?>\n",
        "<xliff xmlns=\"urn:oasis:names:tc:xliff:document:1.2\" version=\"1.2\">\n",
        "    <file datatype=\"plaintext\" original=\"self\" source-language=\"en\" target-language=\"es\">\n",
        "        <header>\n",
        "            <sxmd:metadata xmlns:sxmd=\"urn:x-sap:mlt:xliff12:metadata:1.0\" xmlns=\"urn:x-sap:mlt:tsmetadata:1.0\">\n",
        "                <object-name>sample</object-name>\n",
        "                <collection>KWT</collection>\n",
        "                <domain>KWT</domain>\n",
        "                <developer>123</developer>\n",
        "                <description>sample XLIFF file</description>\n",
        "            </sxmd:metadata>\n",
        "        </header>\n",
        "        <body>\n",
        "            <trans-unit>\n",
        "                <source>Hello world!</source>\n",
        "                <target>Hola mundo!</target>\n",
        "            </trans-unit>\n",
        "            <trans-unit>\n",
        "                <source>File</source>\n",
        "                <target>Archivo</target>\n",
        "            </trans-unit>\n",
        "            <trans-unit>\n",
        "                <source>New</source>\n",
        "                <target>Nuevo</target>\n",
        "            </trans-unit>\n",
        "            <trans-unit>\n",
        "                <source>Exit</source>\n",
        "                <target>Salir</target>\n",
        "            </trans-unit>\n",
        "        </body>\n",
        "    </file>\n",
        "</xliff>"
      ],
      "id": "appropriate-timber"
    },
    {
      "cell_type": "markdown",
      "metadata": {
        "id": "falling-greenhouse"
      },
      "source": [
        "### Ćwiczenie 4: Napisz konwerter formatu hunaligna na XLIFF."
      ],
      "id": "falling-greenhouse"
    },
    {
      "cell_type": "code",
      "metadata": {
        "id": "remarkable-pillow"
      },
      "source": [
        "def convert2xliff(hunalign_file_name):\n",
        "    return 0"
      ],
      "id": "remarkable-pillow",
      "execution_count": null,
      "outputs": []
    }
  ]
}